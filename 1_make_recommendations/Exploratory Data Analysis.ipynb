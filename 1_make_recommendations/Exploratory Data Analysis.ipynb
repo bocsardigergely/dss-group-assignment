{
 "cells": [
  {
   "cell_type": "code",
   "execution_count": 1,
   "metadata": {},
   "outputs": [
    {
     "name": "stdout",
     "output_type": "stream",
     "text": [
      "Time to start generating seeds!\n"
     ]
    }
   ],
   "source": [
    "import pandas as pd\n",
    "from Seed_Generator import Seed_Generator\n",
    "df_top_tracks = pd.read_csv('../participant data/user spotify data/top_tracks.csv')\n",
    "sg = Seed_Generator()"
   ]
  },
  {
   "cell_type": "code",
   "execution_count": 2,
   "metadata": {},
   "outputs": [
    {
     "data": {
      "text/plain": [
       "47"
      ]
     },
     "execution_count": 2,
     "metadata": {},
     "output_type": "execute_result"
    }
   ],
   "source": [
    "diverse_tracks = dict()\n",
    "for user_id in list(df_top_tracks['user_id'].unique()):\n",
    "    diverse_tracks.update(sg.get_track_seeds(df_top_tracks,user_id,True))\n",
    "len(diverse_tracks)"
   ]
  },
  {
   "cell_type": "code",
   "execution_count": 3,
   "metadata": {},
   "outputs": [
    {
     "data": {
      "text/plain": [
       "47"
      ]
     },
     "execution_count": 3,
     "metadata": {},
     "output_type": "execute_result"
    }
   ],
   "source": [
    "non_diverse_tracks = dict()\n",
    "for user_id in list(df_top_tracks['user_id'].unique()):\n",
    "    non_diverse_tracks.update(sg.get_track_seeds(df_top_tracks,user_id,False))\n",
    "len(non_diverse_tracks)"
   ]
  },
  {
   "cell_type": "code",
   "execution_count": 4,
   "metadata": {},
   "outputs": [
    {
     "data": {
      "text/plain": [
       "['93c25a1d7af16a3f513dc53f3d1334c4a7f2df82925e215c110a7ba541c0bb9f',\n",
       " '32dbeaad7fa194eadff4c90a20d504390d86bcfcc93c2a6ce1826b6d0d3c2979']"
      ]
     },
     "execution_count": 4,
     "metadata": {},
     "output_type": "execute_result"
    }
   ],
   "source": [
    "weird_diverse_users = [key for key, value in diverse_tracks.items() if value == '']\n",
    "weird_diverse_users"
   ]
  },
  {
   "cell_type": "code",
   "execution_count": 5,
   "metadata": {},
   "outputs": [
    {
     "data": {
      "text/plain": [
       "['d28708a363b58062087293f779256fffa38fdd56c1f79d5e2855dfaa7a04f4e6',\n",
       " '1418fcc80d2e4febb58f44fcd93ff755df16b64edfa90076ab6e6707d79453ba',\n",
       " '93c25a1d7af16a3f513dc53f3d1334c4a7f2df82925e215c110a7ba541c0bb9f',\n",
       " '2ef41e03eea7359470b492771ef78ac792437960561b744f2c2bf6accaca15f6']"
      ]
     },
     "execution_count": 5,
     "metadata": {},
     "output_type": "execute_result"
    }
   ],
   "source": [
    "weird_nondiverse_users = [key for key, value in non_diverse_tracks.items() if value == '']\n",
    "weird_nondiverse_users"
   ]
  },
  {
   "cell_type": "code",
   "execution_count": 6,
   "metadata": {},
   "outputs": [
    {
     "data": {
      "text/html": [
       "<div>\n",
       "<style scoped>\n",
       "    .dataframe tbody tr th:only-of-type {\n",
       "        vertical-align: middle;\n",
       "    }\n",
       "\n",
       "    .dataframe tbody tr th {\n",
       "        vertical-align: top;\n",
       "    }\n",
       "\n",
       "    .dataframe thead th {\n",
       "        text-align: right;\n",
       "    }\n",
       "</style>\n",
       "<table border=\"1\" class=\"dataframe\">\n",
       "  <thead>\n",
       "    <tr style=\"text-align: right;\">\n",
       "      <th></th>\n",
       "      <th>user_id</th>\n",
       "      <th>track_id</th>\n",
       "      <th>time_period</th>\n",
       "      <th>timestamp</th>\n",
       "      <th>position</th>\n",
       "    </tr>\n",
       "  </thead>\n",
       "  <tbody>\n",
       "    <tr>\n",
       "      <th>3153</th>\n",
       "      <td>93c25a1d7af16a3f513dc53f3d1334c4a7f2df82925e21...</td>\n",
       "      <td>5GQAHsTo4DI71QLAXUo3DV</td>\n",
       "      <td>long</td>\n",
       "      <td>1.668428e+09</td>\n",
       "      <td>0</td>\n",
       "    </tr>\n",
       "    <tr>\n",
       "      <th>3154</th>\n",
       "      <td>93c25a1d7af16a3f513dc53f3d1334c4a7f2df82925e21...</td>\n",
       "      <td>46N0cSUeoKfdGOGG852Jk1</td>\n",
       "      <td>long</td>\n",
       "      <td>1.668428e+09</td>\n",
       "      <td>1</td>\n",
       "    </tr>\n",
       "    <tr>\n",
       "      <th>3155</th>\n",
       "      <td>32dbeaad7fa194eadff4c90a20d504390d86bcfcc93c2a...</td>\n",
       "      <td>7ef4DlsgrMEH11cDZd32M6</td>\n",
       "      <td>medium</td>\n",
       "      <td>1.668431e+09</td>\n",
       "      <td>0</td>\n",
       "    </tr>\n",
       "    <tr>\n",
       "      <th>3704</th>\n",
       "      <td>32dbeaad7fa194eadff4c90a20d504390d86bcfcc93c2a...</td>\n",
       "      <td>7ef4DlsgrMEH11cDZd32M6</td>\n",
       "      <td>short</td>\n",
       "      <td>1.668431e+09</td>\n",
       "      <td>0</td>\n",
       "    </tr>\n",
       "    <tr>\n",
       "      <th>3705</th>\n",
       "      <td>32dbeaad7fa194eadff4c90a20d504390d86bcfcc93c2a...</td>\n",
       "      <td>7ef4DlsgrMEH11cDZd32M6</td>\n",
       "      <td>long</td>\n",
       "      <td>1.668431e+09</td>\n",
       "      <td>0</td>\n",
       "    </tr>\n",
       "  </tbody>\n",
       "</table>\n",
       "</div>"
      ],
      "text/plain": [
       "                                                user_id  \\\n",
       "3153  93c25a1d7af16a3f513dc53f3d1334c4a7f2df82925e21...   \n",
       "3154  93c25a1d7af16a3f513dc53f3d1334c4a7f2df82925e21...   \n",
       "3155  32dbeaad7fa194eadff4c90a20d504390d86bcfcc93c2a...   \n",
       "3704  32dbeaad7fa194eadff4c90a20d504390d86bcfcc93c2a...   \n",
       "3705  32dbeaad7fa194eadff4c90a20d504390d86bcfcc93c2a...   \n",
       "\n",
       "                    track_id time_period     timestamp  position  \n",
       "3153  5GQAHsTo4DI71QLAXUo3DV        long  1.668428e+09         0  \n",
       "3154  46N0cSUeoKfdGOGG852Jk1        long  1.668428e+09         1  \n",
       "3155  7ef4DlsgrMEH11cDZd32M6      medium  1.668431e+09         0  \n",
       "3704  7ef4DlsgrMEH11cDZd32M6       short  1.668431e+09         0  \n",
       "3705  7ef4DlsgrMEH11cDZd32M6        long  1.668431e+09         0  "
      ]
     },
     "execution_count": 6,
     "metadata": {},
     "output_type": "execute_result"
    }
   ],
   "source": [
    "df_top_tracks[df_top_tracks['user_id'].isin(weird_diverse_users)]\n",
    "# So these get weird diverse results because they only have 2 or 3 songs, not 45 songs\n",
    "# TODO add handling for this, too few songs"
   ]
  },
  {
   "cell_type": "code",
   "execution_count": 7,
   "metadata": {},
   "outputs": [
    {
     "data": {
      "text/plain": [
       "array(['medium', 'long'], dtype=object)"
      ]
     },
     "execution_count": 7,
     "metadata": {},
     "output_type": "execute_result"
    }
   ],
   "source": [
    "df_top_tracks[df_top_tracks['user_id'].isin(weird_nondiverse_users)]['time_period'].unique()\n",
    "# TODO change to handle: current code gets only 'short' time_period"
   ]
  }
 ],
 "metadata": {
  "kernelspec": {
   "display_name": "Python 3.10.6 ('venv': venv)",
   "language": "python",
   "name": "python3"
  },
  "language_info": {
   "codemirror_mode": {
    "name": "ipython",
    "version": 3
   },
   "file_extension": ".py",
   "mimetype": "text/x-python",
   "name": "python",
   "nbconvert_exporter": "python",
   "pygments_lexer": "ipython3",
   "version": "3.10.6"
  },
  "orig_nbformat": 4,
  "vscode": {
   "interpreter": {
    "hash": "953be8f9f5d2d8924318ea933725a0cba1e011a2089a1645318d391a1ca8694c"
   }
  }
 },
 "nbformat": 4,
 "nbformat_minor": 2
}
