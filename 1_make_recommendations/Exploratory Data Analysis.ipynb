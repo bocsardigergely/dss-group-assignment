{
 "cells": [
  {
   "cell_type": "code",
   "execution_count": 1,
   "metadata": {},
   "outputs": [],
   "source": [
    "path= '../participant data'"
   ]
  },
  {
   "cell_type": "code",
   "execution_count": 2,
   "metadata": {},
   "outputs": [],
   "source": [
    "#Imports \n",
    "import pandas as pd\n"
   ]
  },
  {
   "cell_type": "code",
   "execution_count": 3,
   "metadata": {},
   "outputs": [],
   "source": [
    "# df_track=pd.read_csv(path+'/track and artist data/track.csv')\n",
    "# df_log=pd.read_csv(path+'/recommendation data/recommendation_log.csv')\n",
    "# df_rec_tracks=pd.read_csv(path+'/recommendation data/rec_tracks_all.csv')\n",
    "df_top_tracks=pd.read_csv(path+'/user spotify data/top_tracks.csv')"
   ]
  },
  {
   "cell_type": "code",
   "execution_count": 4,
   "metadata": {},
   "outputs": [
    {
     "data": {
      "text/html": [
       "<div>\n",
       "<style scoped>\n",
       "    .dataframe tbody tr th:only-of-type {\n",
       "        vertical-align: middle;\n",
       "    }\n",
       "\n",
       "    .dataframe tbody tr th {\n",
       "        vertical-align: top;\n",
       "    }\n",
       "\n",
       "    .dataframe thead th {\n",
       "        text-align: right;\n",
       "    }\n",
       "</style>\n",
       "<table border=\"1\" class=\"dataframe\">\n",
       "  <thead>\n",
       "    <tr style=\"text-align: right;\">\n",
       "      <th></th>\n",
       "      <th>user_id</th>\n",
       "      <th>track_id</th>\n",
       "      <th>time_period</th>\n",
       "      <th>timestamp</th>\n",
       "      <th>position</th>\n",
       "    </tr>\n",
       "  </thead>\n",
       "  <tbody>\n",
       "    <tr>\n",
       "      <th>0</th>\n",
       "      <td>d28708a363b58062087293f779256fffa38fdd56c1f79d...</td>\n",
       "      <td>538mGMhcnSva7oMoAviUPf</td>\n",
       "      <td>medium</td>\n",
       "      <td>1.666364e+09</td>\n",
       "      <td>0</td>\n",
       "    </tr>\n",
       "    <tr>\n",
       "      <th>1</th>\n",
       "      <td>d28708a363b58062087293f779256fffa38fdd56c1f79d...</td>\n",
       "      <td>4ADhzINVrX053tN4xVIjh1</td>\n",
       "      <td>medium</td>\n",
       "      <td>1.666364e+09</td>\n",
       "      <td>1</td>\n",
       "    </tr>\n",
       "    <tr>\n",
       "      <th>2</th>\n",
       "      <td>d28708a363b58062087293f779256fffa38fdd56c1f79d...</td>\n",
       "      <td>4xNDbq22jC2Vdf6QV2uArL</td>\n",
       "      <td>medium</td>\n",
       "      <td>1.666364e+09</td>\n",
       "      <td>2</td>\n",
       "    </tr>\n",
       "    <tr>\n",
       "      <th>3</th>\n",
       "      <td>d28708a363b58062087293f779256fffa38fdd56c1f79d...</td>\n",
       "      <td>0Wcm43LYI2UD1dOrAU7Wig</td>\n",
       "      <td>medium</td>\n",
       "      <td>1.666364e+09</td>\n",
       "      <td>3</td>\n",
       "    </tr>\n",
       "    <tr>\n",
       "      <th>4</th>\n",
       "      <td>d28708a363b58062087293f779256fffa38fdd56c1f79d...</td>\n",
       "      <td>2eJovRJ0mGlWltuhKMgJKM</td>\n",
       "      <td>medium</td>\n",
       "      <td>1.666364e+09</td>\n",
       "      <td>4</td>\n",
       "    </tr>\n",
       "  </tbody>\n",
       "</table>\n",
       "</div>"
      ],
      "text/plain": [
       "                                             user_id                track_id  \\\n",
       "0  d28708a363b58062087293f779256fffa38fdd56c1f79d...  538mGMhcnSva7oMoAviUPf   \n",
       "1  d28708a363b58062087293f779256fffa38fdd56c1f79d...  4ADhzINVrX053tN4xVIjh1   \n",
       "2  d28708a363b58062087293f779256fffa38fdd56c1f79d...  4xNDbq22jC2Vdf6QV2uArL   \n",
       "3  d28708a363b58062087293f779256fffa38fdd56c1f79d...  0Wcm43LYI2UD1dOrAU7Wig   \n",
       "4  d28708a363b58062087293f779256fffa38fdd56c1f79d...  2eJovRJ0mGlWltuhKMgJKM   \n",
       "\n",
       "  time_period     timestamp  position  \n",
       "0      medium  1.666364e+09         0  \n",
       "1      medium  1.666364e+09         1  \n",
       "2      medium  1.666364e+09         2  \n",
       "3      medium  1.666364e+09         3  \n",
       "4      medium  1.666364e+09         4  "
      ]
     },
     "execution_count": 4,
     "metadata": {},
     "output_type": "execute_result"
    }
   ],
   "source": [
    "df_top_tracks.head()"
   ]
  },
  {
   "cell_type": "code",
   "execution_count": 45,
   "metadata": {},
   "outputs": [],
   "source": [
    "from random import sample\n",
    "\n",
    "def get_seeds(data,user_id, diverse=True):\n",
    "    # Choose the user's data\n",
    "    data=data[data['user_id']==user_id]\n",
    "\n",
    "    # Choose low priority songs the user hasn't listened to recently for the diverse list seed generation\n",
    "    if diverse:\n",
    "        data_sample=data[(data['position']>=45) & (data['time_period']=='long')]\n",
    "    else:\n",
    "        data_sample=data[(data['position']<=10) & (data['time_period']=='short')]\n",
    "\n",
    "    #Add randomly sampled tracks\n",
    "    all_tracks = list(data_sample['track_id'].values) # of the user\n",
    "    sample_size = len(all_tracks) if len(all_tracks) < 5 else 5\n",
    "    tracks = sample(all_tracks, sample_size)\n",
    "    tracks = \",\".join(tracks)\n",
    "\n",
    "    #Add randomly sampled genres\n",
    "    # genres = sample(list(data_sample['genre_name'].values), 2)\n",
    "    # genres = \",\".join(genres)\n",
    "\n",
    "\n",
    "    return {user_id: tracks}\n",
    "\n"
   ]
  },
  {
   "cell_type": "code",
   "execution_count": 52,
   "metadata": {},
   "outputs": [
    {
     "data": {
      "text/plain": [
       "47"
      ]
     },
     "execution_count": 52,
     "metadata": {},
     "output_type": "execute_result"
    }
   ],
   "source": [
    "diverse_tracks = dict()\n",
    "for user_id in list(df_top_tracks['user_id'].unique()):\n",
    "    diverse_tracks.update(get_seeds(df_top_tracks,user_id,True))\n",
    "len(diverse_tracks)"
   ]
  },
  {
   "cell_type": "code",
   "execution_count": 53,
   "metadata": {},
   "outputs": [
    {
     "data": {
      "text/plain": [
       "47"
      ]
     },
     "execution_count": 53,
     "metadata": {},
     "output_type": "execute_result"
    }
   ],
   "source": [
    "non_diverse_tracks = dict()\n",
    "for user_id in list(df_top_tracks['user_id'].unique()):\n",
    "    non_diverse_tracks.update(get_seeds(df_top_tracks,user_id,False))\n",
    "len(non_diverse_tracks)"
   ]
  },
  {
   "cell_type": "code",
   "execution_count": 54,
   "metadata": {},
   "outputs": [
    {
     "data": {
      "text/plain": [
       "['d28708a363b58062087293f779256fffa38fdd56c1f79d5e2855dfaa7a04f4e6',\n",
       " '12f2e84ef897c8e32d9919871acbe861b4ac4b5ef261170a1a05b05518b6974b',\n",
       " '1dbfdf95b6c701b8852fd90799cc45ddba10435d8e9e15af0109fbdd80bb8a85',\n",
       " 'ed56810fb3ca5f82385492151b3d37f9f2d21eabebef21d794280a86917619ff',\n",
       " '1418fcc80d2e4febb58f44fcd93ff755df16b64edfa90076ab6e6707d79453ba']"
      ]
     },
     "execution_count": 54,
     "metadata": {},
     "output_type": "execute_result"
    }
   ],
   "source": [
    "list(diverse_tracks.keys())[:5] # should be user"
   ]
  },
  {
   "cell_type": "code",
   "execution_count": 55,
   "metadata": {},
   "outputs": [
    {
     "data": {
      "text/plain": [
       "'7mP4bBFQgt6B3sJfqkIzt2,2LfyBCqm9JlARHp22qWMxt,7tK9WnRIh3eiaGEb9fqoQj,6VcRonz2dMc0xgbi5R14HF,0gzzxl6BI8WSwJNGgUNV3D'"
      ]
     },
     "execution_count": 55,
     "metadata": {},
     "output_type": "execute_result"
    }
   ],
   "source": [
    "diverse_tracks['d28708a363b58062087293f779256fffa38fdd56c1f79d5e2855dfaa7a04f4e6']"
   ]
  },
  {
   "cell_type": "code",
   "execution_count": 56,
   "metadata": {},
   "outputs": [
    {
     "data": {
      "text/plain": [
       "'7j2Bmzpnf6RwEWEQ2sv8Ho,2aHNvy1m6bf2BsQPy0W09u,1fDFHXcykq4iw8Gg7s5hG9,68SSN8C0cJmUEXJkGyNYqe,7dJN4NWQuqCjWwIT3UwOps'"
      ]
     },
     "execution_count": 56,
     "metadata": {},
     "output_type": "execute_result"
    }
   ],
   "source": [
    "non_diverse_tracks['1dbfdf95b6c701b8852fd90799cc45ddba10435d8e9e15af0109fbdd80bb8a85']"
   ]
  }
 ],
 "metadata": {
  "kernelspec": {
   "display_name": "Python 3.10.6 ('venv': venv)",
   "language": "python",
   "name": "python3"
  },
  "language_info": {
   "codemirror_mode": {
    "name": "ipython",
    "version": 3
   },
   "file_extension": ".py",
   "mimetype": "text/x-python",
   "name": "python",
   "nbconvert_exporter": "python",
   "pygments_lexer": "ipython3",
   "version": "3.10.6"
  },
  "orig_nbformat": 4,
  "vscode": {
   "interpreter": {
    "hash": "953be8f9f5d2d8924318ea933725a0cba1e011a2089a1645318d391a1ca8694c"
   }
  }
 },
 "nbformat": 4,
 "nbformat_minor": 2
}
