{
 "cells": [
  {
   "cell_type": "code",
   "execution_count": 1,
   "metadata": {},
   "outputs": [
    {
     "name": "stdout",
     "output_type": "stream",
     "text": [
      "Time to start generating seeds!\n"
     ]
    }
   ],
   "source": [
    "#Imports \n",
    "import pandas as pd\n",
    "from Seed_Generator import Seed_Generator\n",
    "path= '../participant data'\n",
    "sg = Seed_Generator()"
   ]
  },
  {
   "cell_type": "code",
   "execution_count": 12,
   "metadata": {},
   "outputs": [
    {
     "name": "stdout",
     "output_type": "stream",
     "text": [
      "Seed_Generator.data set as your dataframe.\n"
     ]
    }
   ],
   "source": [
    "sg.mergeInfoForSeedGeneration()\n",
    "rec = sg.get_track_seeds(sg.data, '1418fcc80d2e4febb58f44fcd93ff755df16b64edfa90076ab6e6707d79453ba')"
   ]
  },
  {
   "cell_type": "code",
   "execution_count": 14,
   "metadata": {},
   "outputs": [
    {
     "data": {
      "text/html": [
       "<div>\n",
       "<style scoped>\n",
       "    .dataframe tbody tr th:only-of-type {\n",
       "        vertical-align: middle;\n",
       "    }\n",
       "\n",
       "    .dataframe tbody tr th {\n",
       "        vertical-align: top;\n",
       "    }\n",
       "\n",
       "    .dataframe thead th {\n",
       "        text-align: right;\n",
       "    }\n",
       "</style>\n",
       "<table border=\"1\" class=\"dataframe\">\n",
       "  <thead>\n",
       "    <tr style=\"text-align: right;\">\n",
       "      <th></th>\n",
       "      <th>user_id</th>\n",
       "      <th>track_id</th>\n",
       "      <th>time_period</th>\n",
       "      <th>timestamp</th>\n",
       "      <th>position</th>\n",
       "      <th>rec_id</th>\n",
       "      <th>rank</th>\n",
       "      <th>baseline_ranking</th>\n",
       "      <th>personalized_ranking</th>\n",
       "      <th>score</th>\n",
       "      <th>weight</th>\n",
       "      <th>genre_name</th>\n",
       "      <th>start_ts</th>\n",
       "    </tr>\n",
       "  </thead>\n",
       "  <tbody>\n",
       "    <tr>\n",
       "      <th>0</th>\n",
       "      <td>12f2e84ef897c8e32d9919871acbe861b4ac4b5ef26117...</td>\n",
       "      <td>5hF2LnbkpnXCkksMSeWcxZ</td>\n",
       "      <td>short</td>\n",
       "      <td>1.666491e+09</td>\n",
       "      <td>19.0</td>\n",
       "      <td>1fed6b23-2c61-463a-9c82-e3f969684c53</td>\n",
       "      <td>205.0</td>\n",
       "      <td>1110.0</td>\n",
       "      <td>652.0</td>\n",
       "      <td>2252.60</td>\n",
       "      <td>0.2</td>\n",
       "      <td>NaN</td>\n",
       "      <td>NaN</td>\n",
       "    </tr>\n",
       "    <tr>\n",
       "      <th>1</th>\n",
       "      <td>12f2e84ef897c8e32d9919871acbe861b4ac4b5ef26117...</td>\n",
       "      <td>3xKsf9qdS1CyvXSMEid6g8</td>\n",
       "      <td>long</td>\n",
       "      <td>1.666491e+09</td>\n",
       "      <td>14.0</td>\n",
       "      <td>1fed6b23-2c61-463a-9c82-e3f969684c53</td>\n",
       "      <td>183.0</td>\n",
       "      <td>2966.0</td>\n",
       "      <td>27.0</td>\n",
       "      <td>1774.50</td>\n",
       "      <td>0.5</td>\n",
       "      <td>NaN</td>\n",
       "      <td>NaN</td>\n",
       "    </tr>\n",
       "    <tr>\n",
       "      <th>2</th>\n",
       "      <td>12f2e84ef897c8e32d9919871acbe861b4ac4b5ef26117...</td>\n",
       "      <td>5hF2LnbkpnXCkksMSeWcxZ</td>\n",
       "      <td>short</td>\n",
       "      <td>1.666491e+09</td>\n",
       "      <td>19.0</td>\n",
       "      <td>60bb2af8-f21e-4d0a-9044-0661d40ac018</td>\n",
       "      <td>205.0</td>\n",
       "      <td>1110.0</td>\n",
       "      <td>652.0</td>\n",
       "      <td>2252.60</td>\n",
       "      <td>0.2</td>\n",
       "      <td>NaN</td>\n",
       "      <td>NaN</td>\n",
       "    </tr>\n",
       "    <tr>\n",
       "      <th>3</th>\n",
       "      <td>12f2e84ef897c8e32d9919871acbe861b4ac4b5ef26117...</td>\n",
       "      <td>3xKsf9qdS1CyvXSMEid6g8</td>\n",
       "      <td>long</td>\n",
       "      <td>1.666491e+09</td>\n",
       "      <td>14.0</td>\n",
       "      <td>60bb2af8-f21e-4d0a-9044-0661d40ac018</td>\n",
       "      <td>183.0</td>\n",
       "      <td>2966.0</td>\n",
       "      <td>27.0</td>\n",
       "      <td>1774.50</td>\n",
       "      <td>0.5</td>\n",
       "      <td>NaN</td>\n",
       "      <td>NaN</td>\n",
       "    </tr>\n",
       "    <tr>\n",
       "      <th>4</th>\n",
       "      <td>12f2e84ef897c8e32d9919871acbe861b4ac4b5ef26117...</td>\n",
       "      <td>5hF2LnbkpnXCkksMSeWcxZ</td>\n",
       "      <td>short</td>\n",
       "      <td>1.666491e+09</td>\n",
       "      <td>19.0</td>\n",
       "      <td>b76e977a-eab8-4dac-b729-96bcde52d9b0</td>\n",
       "      <td>66.0</td>\n",
       "      <td>1110.0</td>\n",
       "      <td>929.5</td>\n",
       "      <td>2215.15</td>\n",
       "      <td>0.3</td>\n",
       "      <td>NaN</td>\n",
       "      <td>NaN</td>\n",
       "    </tr>\n",
       "    <tr>\n",
       "      <th>...</th>\n",
       "      <td>...</td>\n",
       "      <td>...</td>\n",
       "      <td>...</td>\n",
       "      <td>...</td>\n",
       "      <td>...</td>\n",
       "      <td>...</td>\n",
       "      <td>...</td>\n",
       "      <td>...</td>\n",
       "      <td>...</td>\n",
       "      <td>...</td>\n",
       "      <td>...</td>\n",
       "      <td>...</td>\n",
       "      <td>...</td>\n",
       "    </tr>\n",
       "    <tr>\n",
       "      <th>1960</th>\n",
       "      <td>2152111cf613aa1265823312e10228041da0416221a3df...</td>\n",
       "      <td>NaN</td>\n",
       "      <td>NaN</td>\n",
       "      <td>NaN</td>\n",
       "      <td>NaN</td>\n",
       "      <td>a0145f62-ff58-4471-9ed5-ced6147329b3</td>\n",
       "      <td>NaN</td>\n",
       "      <td>NaN</td>\n",
       "      <td>NaN</td>\n",
       "      <td>NaN</td>\n",
       "      <td>NaN</td>\n",
       "      <td>classical</td>\n",
       "      <td>1.668466e+09</td>\n",
       "    </tr>\n",
       "    <tr>\n",
       "      <th>1961</th>\n",
       "      <td>811dc65452d1be20e073f385ee6f0df18ee97d54f8edc1...</td>\n",
       "      <td>NaN</td>\n",
       "      <td>NaN</td>\n",
       "      <td>NaN</td>\n",
       "      <td>NaN</td>\n",
       "      <td>cee8c8b9-c34e-4f7d-9caa-70dcbfec6907</td>\n",
       "      <td>NaN</td>\n",
       "      <td>NaN</td>\n",
       "      <td>NaN</td>\n",
       "      <td>NaN</td>\n",
       "      <td>NaN</td>\n",
       "      <td>rap</td>\n",
       "      <td>1.668500e+09</td>\n",
       "    </tr>\n",
       "    <tr>\n",
       "      <th>1962</th>\n",
       "      <td>811dc65452d1be20e073f385ee6f0df18ee97d54f8edc1...</td>\n",
       "      <td>NaN</td>\n",
       "      <td>NaN</td>\n",
       "      <td>NaN</td>\n",
       "      <td>NaN</td>\n",
       "      <td>dfe44ec8-febb-410b-8f54-025988510466</td>\n",
       "      <td>NaN</td>\n",
       "      <td>NaN</td>\n",
       "      <td>NaN</td>\n",
       "      <td>NaN</td>\n",
       "      <td>NaN</td>\n",
       "      <td>rnb</td>\n",
       "      <td>1.668501e+09</td>\n",
       "    </tr>\n",
       "    <tr>\n",
       "      <th>1963</th>\n",
       "      <td>5851c21c9e3bb3518644ee6b6af3c51c20649fa456449f...</td>\n",
       "      <td>NaN</td>\n",
       "      <td>NaN</td>\n",
       "      <td>NaN</td>\n",
       "      <td>NaN</td>\n",
       "      <td>40e99946-a5c1-4201-9fec-3561c35a972a</td>\n",
       "      <td>NaN</td>\n",
       "      <td>NaN</td>\n",
       "      <td>NaN</td>\n",
       "      <td>NaN</td>\n",
       "      <td>NaN</td>\n",
       "      <td>folk</td>\n",
       "      <td>1.668501e+09</td>\n",
       "    </tr>\n",
       "    <tr>\n",
       "      <th>1964</th>\n",
       "      <td>508580d6e4f48b7c202c93bc3a485a116fb850b65102f5...</td>\n",
       "      <td>NaN</td>\n",
       "      <td>NaN</td>\n",
       "      <td>NaN</td>\n",
       "      <td>NaN</td>\n",
       "      <td>fdc7c9b5-187c-43e1-8084-0537b4fc1877</td>\n",
       "      <td>NaN</td>\n",
       "      <td>NaN</td>\n",
       "      <td>NaN</td>\n",
       "      <td>NaN</td>\n",
       "      <td>NaN</td>\n",
       "      <td>classical</td>\n",
       "      <td>1.668502e+09</td>\n",
       "    </tr>\n",
       "  </tbody>\n",
       "</table>\n",
       "<p>1965 rows × 13 columns</p>\n",
       "</div>"
      ],
      "text/plain": [
       "                                                user_id  \\\n",
       "0     12f2e84ef897c8e32d9919871acbe861b4ac4b5ef26117...   \n",
       "1     12f2e84ef897c8e32d9919871acbe861b4ac4b5ef26117...   \n",
       "2     12f2e84ef897c8e32d9919871acbe861b4ac4b5ef26117...   \n",
       "3     12f2e84ef897c8e32d9919871acbe861b4ac4b5ef26117...   \n",
       "4     12f2e84ef897c8e32d9919871acbe861b4ac4b5ef26117...   \n",
       "...                                                 ...   \n",
       "1960  2152111cf613aa1265823312e10228041da0416221a3df...   \n",
       "1961  811dc65452d1be20e073f385ee6f0df18ee97d54f8edc1...   \n",
       "1962  811dc65452d1be20e073f385ee6f0df18ee97d54f8edc1...   \n",
       "1963  5851c21c9e3bb3518644ee6b6af3c51c20649fa456449f...   \n",
       "1964  508580d6e4f48b7c202c93bc3a485a116fb850b65102f5...   \n",
       "\n",
       "                    track_id time_period     timestamp  position  \\\n",
       "0     5hF2LnbkpnXCkksMSeWcxZ       short  1.666491e+09      19.0   \n",
       "1     3xKsf9qdS1CyvXSMEid6g8        long  1.666491e+09      14.0   \n",
       "2     5hF2LnbkpnXCkksMSeWcxZ       short  1.666491e+09      19.0   \n",
       "3     3xKsf9qdS1CyvXSMEid6g8        long  1.666491e+09      14.0   \n",
       "4     5hF2LnbkpnXCkksMSeWcxZ       short  1.666491e+09      19.0   \n",
       "...                      ...         ...           ...       ...   \n",
       "1960                     NaN         NaN           NaN       NaN   \n",
       "1961                     NaN         NaN           NaN       NaN   \n",
       "1962                     NaN         NaN           NaN       NaN   \n",
       "1963                     NaN         NaN           NaN       NaN   \n",
       "1964                     NaN         NaN           NaN       NaN   \n",
       "\n",
       "                                    rec_id   rank  baseline_ranking  \\\n",
       "0     1fed6b23-2c61-463a-9c82-e3f969684c53  205.0            1110.0   \n",
       "1     1fed6b23-2c61-463a-9c82-e3f969684c53  183.0            2966.0   \n",
       "2     60bb2af8-f21e-4d0a-9044-0661d40ac018  205.0            1110.0   \n",
       "3     60bb2af8-f21e-4d0a-9044-0661d40ac018  183.0            2966.0   \n",
       "4     b76e977a-eab8-4dac-b729-96bcde52d9b0   66.0            1110.0   \n",
       "...                                    ...    ...               ...   \n",
       "1960  a0145f62-ff58-4471-9ed5-ced6147329b3    NaN               NaN   \n",
       "1961  cee8c8b9-c34e-4f7d-9caa-70dcbfec6907    NaN               NaN   \n",
       "1962  dfe44ec8-febb-410b-8f54-025988510466    NaN               NaN   \n",
       "1963  40e99946-a5c1-4201-9fec-3561c35a972a    NaN               NaN   \n",
       "1964  fdc7c9b5-187c-43e1-8084-0537b4fc1877    NaN               NaN   \n",
       "\n",
       "      personalized_ranking    score  weight genre_name      start_ts  \n",
       "0                    652.0  2252.60     0.2        NaN           NaN  \n",
       "1                     27.0  1774.50     0.5        NaN           NaN  \n",
       "2                    652.0  2252.60     0.2        NaN           NaN  \n",
       "3                     27.0  1774.50     0.5        NaN           NaN  \n",
       "4                    929.5  2215.15     0.3        NaN           NaN  \n",
       "...                    ...      ...     ...        ...           ...  \n",
       "1960                   NaN      NaN     NaN  classical  1.668466e+09  \n",
       "1961                   NaN      NaN     NaN        rap  1.668500e+09  \n",
       "1962                   NaN      NaN     NaN        rnb  1.668501e+09  \n",
       "1963                   NaN      NaN     NaN       folk  1.668501e+09  \n",
       "1964                   NaN      NaN     NaN  classical  1.668502e+09  \n",
       "\n",
       "[1965 rows x 13 columns]"
      ]
     },
     "execution_count": 14,
     "metadata": {},
     "output_type": "execute_result"
    }
   ],
   "source": [
    "sg.data"
   ]
  },
  {
   "cell_type": "code",
   "execution_count": 2,
   "metadata": {},
   "outputs": [],
   "source": [
    "# Main data (user_id, track_id, time_period, position)\n",
    "df_top_tracks=pd.read_csv(path+'/user spotify data/top_tracks.csv')\n",
    "\n",
    "# For merging on track_id to get the rec_id\n",
    "df_rec_tracks=pd.read_csv(path+'/recommendation data/rec_tracks_all.csv')\n",
    "\n",
    "# For merging on rec_id to get the genre_name\n",
    "df_log=pd.read_csv(path+'/recommendation data/recommendation_log.csv')\n",
    "\n",
    "# For all track data EXCEPT for genre (bro, why)\n",
    "df_track=pd.read_csv(path+'/track and artist data/track.csv')"
   ]
  },
  {
   "cell_type": "markdown",
   "metadata": {},
   "source": [
    "To get rec_id"
   ]
  },
  {
   "cell_type": "code",
   "execution_count": 4,
   "metadata": {},
   "outputs": [
    {
     "data": {
      "text/plain": [
       "['track_id']"
      ]
     },
     "execution_count": 4,
     "metadata": {},
     "output_type": "execute_result"
    }
   ],
   "source": [
    "# 1st merge, which columns are common?\n",
    "[col for col in df_top_tracks.columns if col in df_rec_tracks.columns]"
   ]
  },
  {
   "cell_type": "code",
   "execution_count": 7,
   "metadata": {},
   "outputs": [
    {
     "name": "stdout",
     "output_type": "stream",
     "text": [
      "['baseline_ranking', 'personalized_ranking', 'position', 'rank', 'rec_id', 'score', 'time_period', 'timestamp', 'track_id', 'user_id', 'weight']\n"
     ]
    },
    {
     "data": {
      "text/plain": [
       "(1911, 11)"
      ]
     },
     "execution_count": 7,
     "metadata": {},
     "output_type": "execute_result"
    }
   ],
   "source": [
    "df = pd.merge(df_top_tracks, df_rec_tracks, how='inner', on='track_id')\n",
    "print(sorted(df.columns))\n",
    "df.shape"
   ]
  },
  {
   "cell_type": "markdown",
   "metadata": {},
   "source": [
    "To get genre_name"
   ]
  },
  {
   "cell_type": "code",
   "execution_count": 8,
   "metadata": {},
   "outputs": [
    {
     "data": {
      "text/plain": [
       "['user_id', 'rec_id']"
      ]
     },
     "execution_count": 8,
     "metadata": {},
     "output_type": "execute_result"
    }
   ],
   "source": [
    "[col for col in df if col in df_log]"
   ]
  },
  {
   "cell_type": "code",
   "execution_count": 12,
   "metadata": {},
   "outputs": [
    {
     "data": {
      "text/plain": [
       "(1965, 13)"
      ]
     },
     "execution_count": 12,
     "metadata": {},
     "output_type": "execute_result"
    }
   ],
   "source": [
    "# 2nd merge, for getting the genre name\n",
    "df_final = pd.merge(df, df_log, how='outer', on=['user_id', 'rec_id'])\n",
    "df_final.shape"
   ]
  },
  {
   "cell_type": "code",
   "execution_count": 13,
   "metadata": {},
   "outputs": [
    {
     "data": {
      "text/plain": [
       "['baseline_ranking',\n",
       " 'genre_name',\n",
       " 'personalized_ranking',\n",
       " 'position',\n",
       " 'rank',\n",
       " 'rec_id',\n",
       " 'score',\n",
       " 'start_ts',\n",
       " 'time_period',\n",
       " 'timestamp',\n",
       " 'track_id',\n",
       " 'user_id',\n",
       " 'weight']"
      ]
     },
     "execution_count": 13,
     "metadata": {},
     "output_type": "execute_result"
    }
   ],
   "source": [
    "sorted(df_final.columns)"
   ]
  }
 ],
 "metadata": {
  "kernelspec": {
   "display_name": "Python 3.10.6 64-bit",
   "language": "python",
   "name": "python3"
  },
  "language_info": {
   "codemirror_mode": {
    "name": "ipython",
    "version": 3
   },
   "file_extension": ".py",
   "mimetype": "text/x-python",
   "name": "python",
   "nbconvert_exporter": "python",
   "pygments_lexer": "ipython3",
   "version": "3.10.6"
  },
  "orig_nbformat": 4,
  "vscode": {
   "interpreter": {
    "hash": "916dbcbb3f70747c44a77c7bcd40155683ae19c65e1c03b4aa3499c5328201f1"
   }
  }
 },
 "nbformat": 4,
 "nbformat_minor": 2
}
