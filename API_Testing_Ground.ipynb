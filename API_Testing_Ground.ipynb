{
 "cells": [
  {
   "cell_type": "code",
   "execution_count": 1,
   "metadata": {},
   "outputs": [
    {
     "name": "stdout",
     "output_type": "stream",
     "text": [
      "OK\n"
     ]
    }
   ],
   "source": [
    "from API import API\n",
    "api = API()"
   ]
  },
  {
   "cell_type": "code",
   "execution_count": 2,
   "metadata": {},
   "outputs": [
    {
     "data": {
      "text/plain": [
       "{'href': 'https://api.spotify.com/v1/users/31gvr6zmqkzap3viblky5yd7ylhi/playlists?offset=0&limit=20',\n",
       " 'items': [{'collaborative': False,\n",
       "   'description': '',\n",
       "   'external_urls': {'spotify': 'https://open.spotify.com/playlist/2koJSqDUbtZByp0qvHEUea'},\n",
       "   'href': 'https://api.spotify.com/v1/playlists/2koJSqDUbtZByp0qvHEUea',\n",
       "   'id': '2koJSqDUbtZByp0qvHEUea',\n",
       "   'images': [],\n",
       "   'name': 'python test',\n",
       "   'owner': {'display_name': 'musashishi',\n",
       "    'external_urls': {'spotify': 'https://open.spotify.com/user/31gvr6zmqkzap3viblky5yd7ylhi'},\n",
       "    'href': 'https://api.spotify.com/v1/users/31gvr6zmqkzap3viblky5yd7ylhi',\n",
       "    'id': '31gvr6zmqkzap3viblky5yd7ylhi',\n",
       "    'type': 'user',\n",
       "    'uri': 'spotify:user:31gvr6zmqkzap3viblky5yd7ylhi'},\n",
       "   'primary_color': None,\n",
       "   'public': True,\n",
       "   'snapshot_id': 'MSwyYjEzMzYwZjUwZDc4YzcxYTUwZDExNzA0MmYwNWVjN2Y0ZWRmZjZm',\n",
       "   'tracks': {'href': 'https://api.spotify.com/v1/playlists/2koJSqDUbtZByp0qvHEUea/tracks',\n",
       "    'total': 0},\n",
       "   'type': 'playlist',\n",
       "   'uri': 'spotify:playlist:2koJSqDUbtZByp0qvHEUea'},\n",
       "  {'collaborative': False,\n",
       "   'description': '',\n",
       "   'external_urls': {'spotify': 'https://open.spotify.com/playlist/3G0ROFJl2wRTed8a1y9EI3'},\n",
       "   'href': 'https://api.spotify.com/v1/playlists/3G0ROFJl2wRTed8a1y9EI3',\n",
       "   'id': '3G0ROFJl2wRTed8a1y9EI3',\n",
       "   'images': [{'height': 640,\n",
       "     'url': 'https://i.scdn.co/image/ab67616d0000b273c57ca033709146845d0ffa8f',\n",
       "     'width': 640}],\n",
       "   'name': 'test-post',\n",
       "   'owner': {'display_name': 'musashishi',\n",
       "    'external_urls': {'spotify': 'https://open.spotify.com/user/31gvr6zmqkzap3viblky5yd7ylhi'},\n",
       "    'href': 'https://api.spotify.com/v1/users/31gvr6zmqkzap3viblky5yd7ylhi',\n",
       "    'id': '31gvr6zmqkzap3viblky5yd7ylhi',\n",
       "    'type': 'user',\n",
       "    'uri': 'spotify:user:31gvr6zmqkzap3viblky5yd7ylhi'},\n",
       "   'primary_color': None,\n",
       "   'public': True,\n",
       "   'snapshot_id': 'Miw4Yzg0NzQxZTJlNDkwOGI3ZTY2MDk1YmNiMjBlOTY5YzE1M2UyMDVl',\n",
       "   'tracks': {'href': 'https://api.spotify.com/v1/playlists/3G0ROFJl2wRTed8a1y9EI3/tracks',\n",
       "    'total': 2},\n",
       "   'type': 'playlist',\n",
       "   'uri': 'spotify:playlist:3G0ROFJl2wRTed8a1y9EI3'},\n",
       "  {'collaborative': False,\n",
       "   'description': '',\n",
       "   'external_urls': {'spotify': 'https://open.spotify.com/playlist/4WVYZPqYzHx9BN9pq6YcJB'},\n",
       "   'href': 'https://api.spotify.com/v1/playlists/4WVYZPqYzHx9BN9pq6YcJB',\n",
       "   'id': '4WVYZPqYzHx9BN9pq6YcJB',\n",
       "   'images': [{'height': 640,\n",
       "     'url': 'https://i.scdn.co/image/ab67616d0000b2731faca82cbafe98a06ad696fb',\n",
       "     'width': 640}],\n",
       "   'name': 'Lofi',\n",
       "   'owner': {'display_name': 'musashishi',\n",
       "    'external_urls': {'spotify': 'https://open.spotify.com/user/31gvr6zmqkzap3viblky5yd7ylhi'},\n",
       "    'href': 'https://api.spotify.com/v1/users/31gvr6zmqkzap3viblky5yd7ylhi',\n",
       "    'id': '31gvr6zmqkzap3viblky5yd7ylhi',\n",
       "    'type': 'user',\n",
       "    'uri': 'spotify:user:31gvr6zmqkzap3viblky5yd7ylhi'},\n",
       "   'primary_color': None,\n",
       "   'public': True,\n",
       "   'snapshot_id': 'NCxiMDFjNDg1ZGUxMjA3NDE0NjQ3MzRkYWNkNjI5NWNjMGVlMzYwMGQw',\n",
       "   'tracks': {'href': 'https://api.spotify.com/v1/playlists/4WVYZPqYzHx9BN9pq6YcJB/tracks',\n",
       "    'total': 1},\n",
       "   'type': 'playlist',\n",
       "   'uri': 'spotify:playlist:4WVYZPqYzHx9BN9pq6YcJB'}],\n",
       " 'limit': 20,\n",
       " 'next': None,\n",
       " 'offset': 0,\n",
       " 'previous': None,\n",
       " 'total': 3}"
      ]
     },
     "execution_count": 2,
     "metadata": {},
     "output_type": "execute_result"
    }
   ],
   "source": [
    "# You may want to edit this method to give you a more usable response\n",
    "api.getPlaylists()"
   ]
  },
  {
   "cell_type": "code",
   "execution_count": 3,
   "metadata": {},
   "outputs": [
    {
     "name": "stdout",
     "output_type": "stream",
     "text": [
      "Dancey\n",
      "Blu\n",
      "I wish\n",
      "Chill vibes @Harry Plopper\n",
      "Holland Road trip '22\n",
      "Son House on Repeat\n",
      "My Playlist #54\n",
      "We Vibin'\n",
      "Old time feel-good\n",
      "AT last\n",
      "Summer 2020\n",
      "Israeli\n",
      "27 April 2020\n",
      "Junior M.A.F.I.A. Radio\n",
      "Pump it up\n",
      "Shower music\n",
      "Mushroom season\n",
      "October 11-12 2019\n",
      "Lola\n",
      "Pre-iPhone\n"
     ]
    }
   ],
   "source": [
    "# Test Asaf's id\n",
    "playlists = api.getPlaylists(user=\"21hrln7z7x7afddwq263yj34q\")\n",
    "for i in range(len(playlists['items'])):\n",
    "        print(playlists['items'][i]['name'])"
   ]
  },
  {
   "cell_type": "code",
   "execution_count": null,
   "metadata": {},
   "outputs": [],
   "source": [
    "new = api.generatePlaylistNames()\n",
    "len(new)"
   ]
  },
  {
   "cell_type": "code",
   "execution_count": null,
   "metadata": {},
   "outputs": [],
   "source": [
    "api.createUserPlaylists()"
   ]
  },
  {
   "cell_type": "code",
   "execution_count": null,
   "metadata": {},
   "outputs": [],
   "source": [
    "import pandas as pd\n",
    "recs = pd.read_csv(\"participant data/recommendation data/rec_tracks_all.csv\")\n",
    "recs.head()"
   ]
  }
 ],
 "metadata": {
  "kernelspec": {
   "display_name": "Python 3.10.6 ('venv': venv)",
   "language": "python",
   "name": "python3"
  },
  "language_info": {
   "codemirror_mode": {
    "name": "ipython",
    "version": 3
   },
   "file_extension": ".py",
   "mimetype": "text/x-python",
   "name": "python",
   "nbconvert_exporter": "python",
   "pygments_lexer": "ipython3",
   "version": "3.10.6"
  },
  "orig_nbformat": 4,
  "vscode": {
   "interpreter": {
    "hash": "953be8f9f5d2d8924318ea933725a0cba1e011a2089a1645318d391a1ca8694c"
   }
  }
 },
 "nbformat": 4,
 "nbformat_minor": 2
}
