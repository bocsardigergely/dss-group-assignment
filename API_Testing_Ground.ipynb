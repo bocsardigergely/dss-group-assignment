{
 "cells": [
  {
   "cell_type": "code",
   "execution_count": 1,
   "metadata": {},
   "outputs": [
    {
     "name": "stdout",
     "output_type": "stream",
     "text": [
      "Test printing test test\n"
     ]
    },
    {
     "name": "stderr",
     "output_type": "stream",
     "text": [
      "'FLASK_ENV' is deprecated and will not be used in Flask 2.3. Use 'FLASK_DEBUG' instead.\n",
      "'FLASK_ENV' is deprecated and will not be used in Flask 2.3. Use 'FLASK_DEBUG' instead.\n",
      "'FLASK_ENV' is deprecated and will not be used in Flask 2.3. Use 'FLASK_DEBUG' instead.\n",
      "2022-11-30 16:09:01,449 - INFO - \u001b[31m\u001b[1mWARNING: This is a development server. Do not use it in a production deployment. Use a production WSGI server instead.\u001b[0m\n",
      " * Running on http://127.0.0.1:5000\n",
      "2022-11-30 16:09:01,449 - INFO - \u001b[33mPress CTRL+C to quit\u001b[0m\n",
      "2022-11-30 16:09:01,450 - INFO -  * Restarting with stat\n",
      "'FLASK_ENV' is deprecated and will not be used in Flask 2.3. Use 'FLASK_DEBUG' instead.\n",
      "'FLASK_ENV' is deprecated and will not be used in Flask 2.3. Use 'FLASK_DEBUG' instead.\n",
      "'FLASK_ENV' is deprecated and will not be used in Flask 2.3. Use 'FLASK_DEBUG' instead.\n",
      "2022-11-30 16:09:01,552 - WARNING -  * Debugger is active!\n",
      "2022-11-30 16:09:01,552 - INFO -  * Debugger PIN: 313-555-829\n",
      "2022-11-30 16:09:03,494 - INFO - 127.0.0.1 - - [30/Nov/2022 16:09:03] \"GET / HTTP/1.1\" 200 -\n",
      "2022-11-30 16:09:03,588 - INFO - 127.0.0.1 - - [30/Nov/2022 16:09:03] \"\u001b[33mGET /favicon.ico HTTP/1.1\u001b[0m\" 404 -\n",
      "2022-11-30 16:09:03,611 - INFO - 127.0.0.1 - - [30/Nov/2022 16:09:03] \"\u001b[32mGET /auth HTTP/1.1\u001b[0m\" 302 -\n",
      "2022-11-30 16:09:04,848 - INFO - 127.0.0.1 - - [30/Nov/2022 16:09:04] \"GET /callback HTTP/1.1\" 200 -\n"
     ]
    },
    {
     "name": "stdout",
     "output_type": "stream",
     "text": [
      "\n"
     ]
    }
   ],
   "source": [
    "from API import API\n",
    "api = API()"
   ]
  },
  {
   "cell_type": "markdown",
   "metadata": {},
   "source": [
    "## General checking functions"
   ]
  },
  {
   "cell_type": "code",
   "execution_count": 10,
   "metadata": {},
   "outputs": [
    {
     "data": {
      "text/plain": [
       "[{'collaborative': False,\n",
       "  'description': '',\n",
       "  'external_urls': {'spotify': 'https://open.spotify.com/playlist/1BefJ7gET795Qbwhnl0KC0'},\n",
       "  'href': 'https://api.spotify.com/v1/playlists/1BefJ7gET795Qbwhnl0KC0',\n",
       "  'id': '1BefJ7gET795Qbwhnl0KC0',\n",
       "  'images': [],\n",
       "  'name': 'Dancey_copy',\n",
       "  'owner': {'display_name': 'musashishi',\n",
       "   'external_urls': {'spotify': 'https://open.spotify.com/user/31gvr6zmqkzap3viblky5yd7ylhi'},\n",
       "   'href': 'https://api.spotify.com/v1/users/31gvr6zmqkzap3viblky5yd7ylhi',\n",
       "   'id': '31gvr6zmqkzap3viblky5yd7ylhi',\n",
       "   'type': 'user',\n",
       "   'uri': 'spotify:user:31gvr6zmqkzap3viblky5yd7ylhi'},\n",
       "  'primary_color': None,\n",
       "  'public': True,\n",
       "  'snapshot_id': 'MSw4MzBkYTgwMjg3M2RiNmRjYmQ5ZGZmNTkwN2RhYTRiNWZiNzlkNzJi',\n",
       "  'tracks': {'href': 'https://api.spotify.com/v1/playlists/1BefJ7gET795Qbwhnl0KC0/tracks',\n",
       "   'total': 0},\n",
       "  'type': 'playlist',\n",
       "  'uri': 'spotify:playlist:1BefJ7gET795Qbwhnl0KC0'},\n",
       " {'collaborative': False,\n",
       "  'description': '',\n",
       "  'external_urls': {'spotify': 'https://open.spotify.com/playlist/2koJSqDUbtZByp0qvHEUea'},\n",
       "  'href': 'https://api.spotify.com/v1/playlists/2koJSqDUbtZByp0qvHEUea',\n",
       "  'id': '2koJSqDUbtZByp0qvHEUea',\n",
       "  'images': [],\n",
       "  'name': 'python test',\n",
       "  'owner': {'display_name': 'musashishi',\n",
       "   'external_urls': {'spotify': 'https://open.spotify.com/user/31gvr6zmqkzap3viblky5yd7ylhi'},\n",
       "   'href': 'https://api.spotify.com/v1/users/31gvr6zmqkzap3viblky5yd7ylhi',\n",
       "   'id': '31gvr6zmqkzap3viblky5yd7ylhi',\n",
       "   'type': 'user',\n",
       "   'uri': 'spotify:user:31gvr6zmqkzap3viblky5yd7ylhi'},\n",
       "  'primary_color': None,\n",
       "  'public': True,\n",
       "  'snapshot_id': 'MSwyYjEzMzYwZjUwZDc4YzcxYTUwZDExNzA0MmYwNWVjN2Y0ZWRmZjZm',\n",
       "  'tracks': {'href': 'https://api.spotify.com/v1/playlists/2koJSqDUbtZByp0qvHEUea/tracks',\n",
       "   'total': 0},\n",
       "  'type': 'playlist',\n",
       "  'uri': 'spotify:playlist:2koJSqDUbtZByp0qvHEUea'},\n",
       " {'collaborative': False,\n",
       "  'description': '',\n",
       "  'external_urls': {'spotify': 'https://open.spotify.com/playlist/3G0ROFJl2wRTed8a1y9EI3'},\n",
       "  'href': 'https://api.spotify.com/v1/playlists/3G0ROFJl2wRTed8a1y9EI3',\n",
       "  'id': '3G0ROFJl2wRTed8a1y9EI3',\n",
       "  'images': [{'height': 640,\n",
       "    'url': 'https://i.scdn.co/image/ab67616d0000b273c57ca033709146845d0ffa8f',\n",
       "    'width': 640}],\n",
       "  'name': 'test-post',\n",
       "  'owner': {'display_name': 'musashishi',\n",
       "   'external_urls': {'spotify': 'https://open.spotify.com/user/31gvr6zmqkzap3viblky5yd7ylhi'},\n",
       "   'href': 'https://api.spotify.com/v1/users/31gvr6zmqkzap3viblky5yd7ylhi',\n",
       "   'id': '31gvr6zmqkzap3viblky5yd7ylhi',\n",
       "   'type': 'user',\n",
       "   'uri': 'spotify:user:31gvr6zmqkzap3viblky5yd7ylhi'},\n",
       "  'primary_color': None,\n",
       "  'public': True,\n",
       "  'snapshot_id': 'Miw4Yzg0NzQxZTJlNDkwOGI3ZTY2MDk1YmNiMjBlOTY5YzE1M2UyMDVl',\n",
       "  'tracks': {'href': 'https://api.spotify.com/v1/playlists/3G0ROFJl2wRTed8a1y9EI3/tracks',\n",
       "   'total': 2},\n",
       "  'type': 'playlist',\n",
       "  'uri': 'spotify:playlist:3G0ROFJl2wRTed8a1y9EI3'},\n",
       " {'collaborative': False,\n",
       "  'description': 'calm and mellow evening lofi hip hop beats to study , chill , relax , draw , focus , game , space out , daydream , dream &amp; sleep to 💤 dreamy hiphop , lush lo-fi , spacey lo fi , cozy hip-hop , Chillhop , jazzhop , relaxing , boom bap , chillout , sleeping , twitch stream | updated regularly',\n",
       "  'external_urls': {'spotify': 'https://open.spotify.com/playlist/3BH9HNgKSh6E1gVHAWRegN'},\n",
       "  'href': 'https://api.spotify.com/v1/playlists/3BH9HNgKSh6E1gVHAWRegN',\n",
       "  'id': '3BH9HNgKSh6E1gVHAWRegN',\n",
       "  'images': [{'height': None,\n",
       "    'url': 'https://i.scdn.co/image/ab67706c0000bebbc774a53bed68ffd0474020e2',\n",
       "    'width': None}],\n",
       "  'name': '💤 quiet lofi // sleepy lofi beats 💤 ',\n",
       "  'owner': {'display_name': 'Jamie Henwood',\n",
       "   'external_urls': {'spotify': 'https://open.spotify.com/user/1259822093'},\n",
       "   'href': 'https://api.spotify.com/v1/users/1259822093',\n",
       "   'id': '1259822093',\n",
       "   'type': 'user',\n",
       "   'uri': 'spotify:user:1259822093'},\n",
       "  'primary_color': None,\n",
       "  'public': False,\n",
       "  'snapshot_id': 'MTk3OCw5NTYzNjFhMzgzYzY0ZTMxOGM0NTIxYWM4MDViOTA0ZmRiMWJlZmI2',\n",
       "  'tracks': {'href': 'https://api.spotify.com/v1/playlists/3BH9HNgKSh6E1gVHAWRegN/tracks',\n",
       "   'total': 220},\n",
       "  'type': 'playlist',\n",
       "  'uri': 'spotify:playlist:3BH9HNgKSh6E1gVHAWRegN'},\n",
       " {'collaborative': False,\n",
       "  'description': '',\n",
       "  'external_urls': {'spotify': 'https://open.spotify.com/playlist/4WVYZPqYzHx9BN9pq6YcJB'},\n",
       "  'href': 'https://api.spotify.com/v1/playlists/4WVYZPqYzHx9BN9pq6YcJB',\n",
       "  'id': '4WVYZPqYzHx9BN9pq6YcJB',\n",
       "  'images': [{'height': 640,\n",
       "    'url': 'https://i.scdn.co/image/ab67616d0000b2731faca82cbafe98a06ad696fb',\n",
       "    'width': 640}],\n",
       "  'name': 'Lofi',\n",
       "  'owner': {'display_name': 'musashishi',\n",
       "   'external_urls': {'spotify': 'https://open.spotify.com/user/31gvr6zmqkzap3viblky5yd7ylhi'},\n",
       "   'href': 'https://api.spotify.com/v1/users/31gvr6zmqkzap3viblky5yd7ylhi',\n",
       "   'id': '31gvr6zmqkzap3viblky5yd7ylhi',\n",
       "   'type': 'user',\n",
       "   'uri': 'spotify:user:31gvr6zmqkzap3viblky5yd7ylhi'},\n",
       "  'primary_color': None,\n",
       "  'public': True,\n",
       "  'snapshot_id': 'NCxiMDFjNDg1ZGUxMjA3NDE0NjQ3MzRkYWNkNjI5NWNjMGVlMzYwMGQw',\n",
       "  'tracks': {'href': 'https://api.spotify.com/v1/playlists/4WVYZPqYzHx9BN9pq6YcJB/tracks',\n",
       "   'total': 1},\n",
       "  'type': 'playlist',\n",
       "  'uri': 'spotify:playlist:4WVYZPqYzHx9BN9pq6YcJB'}]"
      ]
     },
     "execution_count": 10,
     "metadata": {},
     "output_type": "execute_result"
    }
   ],
   "source": [
    "api.getPlaylists()"
   ]
  },
  {
   "cell_type": "code",
   "execution_count": 3,
   "metadata": {},
   "outputs": [
    {
     "data": {
      "text/plain": [
       "['Dancey',\n",
       " 'Blu',\n",
       " 'I wish',\n",
       " 'Chill vibes @Harry Plopper',\n",
       " \"Holland Road trip '22\",\n",
       " 'Son House on Repeat',\n",
       " 'My Playlist #54',\n",
       " \"We Vibin'\",\n",
       " 'Old time feel-good',\n",
       " 'AT last',\n",
       " 'Summer 2020',\n",
       " 'Israeli',\n",
       " '27 April 2020',\n",
       " 'Junior M.A.F.I.A. Radio',\n",
       " 'Pump it up',\n",
       " 'Shower music',\n",
       " 'Mushroom season',\n",
       " 'October 11-12 2019',\n",
       " 'Lola',\n",
       " 'Pre-iPhone']"
      ]
     },
     "execution_count": 3,
     "metadata": {},
     "output_type": "execute_result"
    }
   ],
   "source": [
    "# Test Asaf's id\n",
    "Asaf = \"21hrln7z7x7afddwq263yj34q\"\n",
    "\n",
    "# For testing purposes\n",
    "def getPlaylistNames():\n",
    "        playlist_names = []\n",
    "        playlists = api.getPlaylists(Asaf)\n",
    "        for i in range(len(playlists)):\n",
    "                # print(playlists[i]['name'])\n",
    "                playlist_names.append(playlists[i]['name'])\n",
    "        return playlist_names\n",
    "\n",
    "playlist_names = getPlaylistNames()\n",
    "playlist_names\n",
    "        # print(playlists[i]['uri'])\n",
    "        # print()"
   ]
  },
  {
   "cell_type": "code",
   "execution_count": 4,
   "metadata": {},
   "outputs": [
    {
     "name": "stdout",
     "output_type": "stream",
     "text": [
      "Playlist Dancey found!\n"
     ]
    },
    {
     "data": {
      "text/plain": [
       "'3D34oTsGMwaThSCifPYyNZ'"
      ]
     },
     "execution_count": 4,
     "metadata": {},
     "output_type": "execute_result"
    }
   ],
   "source": [
    "playlist_uri = api.getPlaylistIdFromName(\"Dancey\", Asaf)\n",
    "playlist_uri"
   ]
  },
  {
   "cell_type": "code",
   "execution_count": 5,
   "metadata": {},
   "outputs": [
    {
     "name": "stdout",
     "output_type": "stream",
     "text": [
      "need to create this\n",
      "{\n",
      "  \"error\" : {\n",
      "    \"status\" : 403,\n",
      "    \"message\" : \"This request requires user authentication.\"\n",
      "  }\n",
      "}\n",
      "Creation of Dancey_copy failed.\n",
      "Dancey_copy in playlist_names?\n",
      "False\n"
     ]
    }
   ],
   "source": [
    "# Test adding 5 songs from my playlist to another one of Asaf's playlists (a test one)\n",
    "if \"Dancey_copy\" not in playlist_names:\n",
    "    print(\"need to create this\")\n",
    "    api.createPlaylist(\"Dancey_copy\", Asaf)\n",
    "\n",
    "playlist_names = getPlaylistNames()\n",
    "print(f\"Dancey_copy in playlist_names?\\n{'Dancey_copy' in playlist_names}\")"
   ]
  },
  {
   "cell_type": "code",
   "execution_count": 6,
   "metadata": {},
   "outputs": [],
   "source": [
    "# TODO Test adding songs, after successfully making the new auth type\n"
   ]
  },
  {
   "cell_type": "code",
   "execution_count": 7,
   "metadata": {},
   "outputs": [
    {
     "data": {
      "text/plain": [
       "90"
      ]
     },
     "execution_count": 7,
     "metadata": {},
     "output_type": "execute_result"
    }
   ],
   "source": [
    "new = api.generatePlaylistNames()\n",
    "len(new) # 45 for 2 playlists per user"
   ]
  },
  {
   "cell_type": "markdown",
   "metadata": {},
   "source": [
    "## Get Recommendations"
   ]
  },
  {
   "cell_type": "markdown",
   "metadata": {},
   "source": [
    "### Check error messages"
   ]
  },
  {
   "cell_type": "code",
   "execution_count": 2,
   "metadata": {},
   "outputs": [
    {
     "ename": "Exception",
     "evalue": "No more than 5 seeds TOTAL allowed! 6 seeds are in the current input.\nlen(seed_artists) + len(seed_genres) + len(seed_tracks) must be less than 5.",
     "output_type": "error",
     "traceback": [
      "\u001b[0;31m---------------------------------------------------------------------------\u001b[0m",
      "\u001b[0;31mException\u001b[0m                                 Traceback (most recent call last)",
      "Cell \u001b[0;32mIn [2], line 2\u001b[0m\n\u001b[1;32m      1\u001b[0m \u001b[39m# Error test, too many seeds\u001b[39;00m\n\u001b[0;32m----> 2\u001b[0m api\u001b[39m.\u001b[39;49mgetRecommendations(seed_artists\u001b[39m=\u001b[39;49m[\u001b[39m'\u001b[39;49m\u001b[39m1\u001b[39;49m\u001b[39m'\u001b[39;49m, \u001b[39m'\u001b[39;49m\u001b[39m2\u001b[39;49m\u001b[39m'\u001b[39;49m, \u001b[39m'\u001b[39;49m\u001b[39m3\u001b[39;49m\u001b[39m'\u001b[39;49m], seed_genres\u001b[39m=\u001b[39;49m[\u001b[39m'\u001b[39;49m\u001b[39m4\u001b[39;49m\u001b[39m'\u001b[39;49m], seed_tracks\u001b[39m=\u001b[39;49m[\u001b[39m'\u001b[39;49m\u001b[39m5\u001b[39;49m\u001b[39m'\u001b[39;49m,\u001b[39m'\u001b[39;49m\u001b[39m6\u001b[39;49m\u001b[39m'\u001b[39;49m])\n",
      "File \u001b[0;32m~/Documents/DSS/dss-group-assignment/API.py:182\u001b[0m, in \u001b[0;36mAPI.getRecommendations\u001b[0;34m(self, seed_artists, seed_genres, seed_tracks, limit, min_acousticness, max_acousticness, min_danceability, max_danceability, min_duration_ms, max_duration_ms, min_energy, max_energy, min_instrumentalness, max_instrumentalness, min_key, max_key, min_liveness, max_liveness, min_loudness, max_loudness, min_speechiness, max_speechiness, min_tempo, max_tempo, min_time_signature, max_time_signature, min_valence, max_valence)\u001b[0m\n\u001b[1;32m    180\u001b[0m seed_length \u001b[39m=\u001b[39m \u001b[39mlen\u001b[39m(seed_artists) \u001b[39m+\u001b[39m \u001b[39mlen\u001b[39m(seed_genres) \u001b[39m+\u001b[39m \u001b[39mlen\u001b[39m(seed_tracks)\n\u001b[1;32m    181\u001b[0m \u001b[39mif\u001b[39;00m seed_length \u001b[39m>\u001b[39m \u001b[39m5\u001b[39m:\n\u001b[0;32m--> 182\u001b[0m   \u001b[39mraise\u001b[39;00m \u001b[39mException\u001b[39;00m(\u001b[39mf\u001b[39m\u001b[39m\"\u001b[39m\u001b[39mNo more than 5 seeds TOTAL allowed! \u001b[39m\u001b[39m{\u001b[39;00mseed_length\u001b[39m}\u001b[39;00m\u001b[39m seeds are in the current input.\u001b[39m\u001b[39m\\n\u001b[39;00m\u001b[39mlen(seed_artists) + len(seed_genres) + len(seed_tracks) must be less than 5.\u001b[39m\u001b[39m\"\u001b[39m)\n\u001b[1;32m    183\u001b[0m \u001b[39melif\u001b[39;00m seed_length \u001b[39m<\u001b[39m \u001b[39m1\u001b[39m:\n\u001b[1;32m    184\u001b[0m   \u001b[39mraise\u001b[39;00m \u001b[39mException\u001b[39;00m(\u001b[39mf\u001b[39m\u001b[39m\"\u001b[39m\u001b[39mYou need at least 1 seed! \u001b[39m\u001b[39m{\u001b[39;00mseed_length\u001b[39m}\u001b[39;00m\u001b[39m seeds are in the current input.\u001b[39m\u001b[39m\\n\u001b[39;00m\u001b[39mlen(seed_artists) + len(seed_genres) + len(seed_tracks) must be at least 1.\u001b[39m\u001b[39m\"\u001b[39m)\n",
      "\u001b[0;31mException\u001b[0m: No more than 5 seeds TOTAL allowed! 6 seeds are in the current input.\nlen(seed_artists) + len(seed_genres) + len(seed_tracks) must be less than 5."
     ]
    }
   ],
   "source": [
    "# Error test, too many seeds\n",
    "api.getRecommendations(seed_artists=['1', '2', '3'], seed_genres=['4'], seed_tracks=['5','6'])"
   ]
  },
  {
   "cell_type": "code",
   "execution_count": 3,
   "metadata": {},
   "outputs": [
    {
     "ename": "Exception",
     "evalue": "You need at least 1 seed! 0 seeds are in the current input.\nlen(seed_artists) + len(seed_genres) + len(seed_tracks) must be at least 1.",
     "output_type": "error",
     "traceback": [
      "\u001b[0;31m---------------------------------------------------------------------------\u001b[0m",
      "\u001b[0;31mException\u001b[0m                                 Traceback (most recent call last)",
      "Cell \u001b[0;32mIn [3], line 2\u001b[0m\n\u001b[1;32m      1\u001b[0m \u001b[39m# Error test, no seeds\u001b[39;00m\n\u001b[0;32m----> 2\u001b[0m api\u001b[39m.\u001b[39;49mgetRecommendations()\n",
      "File \u001b[0;32m~/Documents/DSS/dss-group-assignment/API.py:184\u001b[0m, in \u001b[0;36mAPI.getRecommendations\u001b[0;34m(self, seed_artists, seed_genres, seed_tracks, limit, min_acousticness, max_acousticness, min_danceability, max_danceability, min_duration_ms, max_duration_ms, min_energy, max_energy, min_instrumentalness, max_instrumentalness, min_key, max_key, min_liveness, max_liveness, min_loudness, max_loudness, min_speechiness, max_speechiness, min_tempo, max_tempo, min_time_signature, max_time_signature, min_valence, max_valence)\u001b[0m\n\u001b[1;32m    182\u001b[0m   \u001b[39mraise\u001b[39;00m \u001b[39mException\u001b[39;00m(\u001b[39mf\u001b[39m\u001b[39m\"\u001b[39m\u001b[39mNo more than 5 seeds TOTAL allowed! \u001b[39m\u001b[39m{\u001b[39;00mseed_length\u001b[39m}\u001b[39;00m\u001b[39m seeds are in the current input.\u001b[39m\u001b[39m\\n\u001b[39;00m\u001b[39mlen(seed_artists) + len(seed_genres) + len(seed_tracks) must be less than 5.\u001b[39m\u001b[39m\"\u001b[39m)\n\u001b[1;32m    183\u001b[0m \u001b[39melif\u001b[39;00m seed_length \u001b[39m<\u001b[39m \u001b[39m1\u001b[39m:\n\u001b[0;32m--> 184\u001b[0m   \u001b[39mraise\u001b[39;00m \u001b[39mException\u001b[39;00m(\u001b[39mf\u001b[39m\u001b[39m\"\u001b[39m\u001b[39mYou need at least 1 seed! \u001b[39m\u001b[39m{\u001b[39;00mseed_length\u001b[39m}\u001b[39;00m\u001b[39m seeds are in the current input.\u001b[39m\u001b[39m\\n\u001b[39;00m\u001b[39mlen(seed_artists) + len(seed_genres) + len(seed_tracks) must be at least 1.\u001b[39m\u001b[39m\"\u001b[39m)\n\u001b[1;32m    186\u001b[0m \u001b[39m# Turn lists into csv strings (1 string per list), necessary for API format\u001b[39;00m\n\u001b[1;32m    187\u001b[0m seed_artists \u001b[39m=\u001b[39m \u001b[39m'\u001b[39m\u001b[39m,\u001b[39m\u001b[39m'\u001b[39m\u001b[39m.\u001b[39mjoin(seed_artists)\n",
      "\u001b[0;31mException\u001b[0m: You need at least 1 seed! 0 seeds are in the current input.\nlen(seed_artists) + len(seed_genres) + len(seed_tracks) must be at least 1."
     ]
    }
   ],
   "source": [
    "# Error test, no seeds\n",
    "api.getRecommendations()"
   ]
  },
  {
   "cell_type": "markdown",
   "metadata": {},
   "source": [
    "### Run the thing"
   ]
  },
  {
   "cell_type": "code",
   "execution_count": 1,
   "metadata": {},
   "outputs": [
    {
     "name": "stderr",
     "output_type": "stream",
     "text": [
      "'FLASK_ENV' is deprecated and will not be used in Flask 2.3. Use 'FLASK_DEBUG' instead.\n",
      "'FLASK_ENV' is deprecated and will not be used in Flask 2.3. Use 'FLASK_DEBUG' instead.\n",
      "'FLASK_ENV' is deprecated and will not be used in Flask 2.3. Use 'FLASK_DEBUG' instead.\n",
      "2022-12-01 15:07:10,487 - INFO - \u001b[31m\u001b[1mWARNING: This is a development server. Do not use it in a production deployment. Use a production WSGI server instead.\u001b[0m\n",
      " * Running on http://127.0.0.1:5000\n",
      "2022-12-01 15:07:10,487 - INFO - \u001b[33mPress CTRL+C to quit\u001b[0m\n",
      "2022-12-01 15:07:10,488 - INFO -  * Restarting with stat\n",
      "'FLASK_ENV' is deprecated and will not be used in Flask 2.3. Use 'FLASK_DEBUG' instead.\n",
      "'FLASK_ENV' is deprecated and will not be used in Flask 2.3. Use 'FLASK_DEBUG' instead.\n",
      "'FLASK_ENV' is deprecated and will not be used in Flask 2.3. Use 'FLASK_DEBUG' instead.\n",
      "2022-12-01 15:07:10,577 - WARNING -  * Debugger is active!\n",
      "2022-12-01 15:07:10,667 - INFO -  * Debugger PIN: 371-247-602\n",
      "2022-12-01 15:07:12,724 - INFO - 127.0.0.1 - - [01/Dec/2022 15:07:12] \"GET / HTTP/1.1\" 200 -\n",
      "2022-12-01 15:07:12,868 - INFO - 127.0.0.1 - - [01/Dec/2022 15:07:12] \"\u001b[33mGET /favicon.ico HTTP/1.1\u001b[0m\" 404 -\n",
      "2022-12-01 15:07:12,936 - INFO - 127.0.0.1 - - [01/Dec/2022 15:07:12] \"\u001b[32mGET /auth HTTP/1.1\u001b[0m\" 302 -\n",
      "2022-12-01 15:07:14,374 - INFO - 127.0.0.1 - - [01/Dec/2022 15:07:14] \"GET /callback HTTP/1.1\" 200 -\n"
     ]
    },
    {
     "name": "stdout",
     "output_type": "stream",
     "text": [
      "\n"
     ]
    }
   ],
   "source": [
    "import pandas as pd\n",
    "from API import API\n",
    "api = API()\n",
    "test_user = pd.read_csv('API_test_user.csv')\n",
    "seed_tracks=list(test_user.iloc[:5]['item'])\n",
    "res = api.getRecommendations(seed_tracks=seed_tracks)"
   ]
  },
  {
   "cell_type": "code",
   "execution_count": 3,
   "metadata": {},
   "outputs": [
    {
     "data": {
      "text/plain": [
       "['spotify:track:14lzu1yd0fKwCL6S5excPR',\n",
       " 'spotify:track:7ga7nXMcsc18s0afA7lcmx',\n",
       " 'spotify:track:0eDMA1SHgR5iTrHcLRqO6M',\n",
       " 'spotify:track:4aywSTpUJhnP54urBD4ttF',\n",
       " 'spotify:track:31kKK9quNFvY54KAdCB4n7',\n",
       " 'spotify:track:0aNpM1reEi4bC62yDXUKlU',\n",
       " 'spotify:track:3VInJE7jmVeOiYwfc2DFse',\n",
       " 'spotify:track:5DKUbb1ysJ2y0FlDFfBVXa',\n",
       " 'spotify:track:7xBnWzMSFlkohHZtCkwP27',\n",
       " 'spotify:track:6DrlmQuT43h7ZvHNYQ4gc7']"
      ]
     },
     "execution_count": 3,
     "metadata": {},
     "output_type": "execute_result"
    }
   ],
   "source": [
    "res"
   ]
  },
  {
   "cell_type": "markdown",
   "metadata": {},
   "source": [
    "Df with the following columns\n",
    "song_id, user_id, all features, rank_of_song_for_user"
   ]
  }
 ],
 "metadata": {
  "kernelspec": {
   "display_name": "Python 3.10.6 ('venv': venv)",
   "language": "python",
   "name": "python3"
  },
  "language_info": {
   "codemirror_mode": {
    "name": "ipython",
    "version": 3
   },
   "file_extension": ".py",
   "mimetype": "text/x-python",
   "name": "python",
   "nbconvert_exporter": "python",
   "pygments_lexer": "ipython3",
   "version": "3.10.6"
  },
  "orig_nbformat": 4,
  "vscode": {
   "interpreter": {
    "hash": "953be8f9f5d2d8924318ea933725a0cba1e011a2089a1645318d391a1ca8694c"
   }
  }
 },
 "nbformat": 4,
 "nbformat_minor": 2
}
