{
 "cells": [
  {
   "cell_type": "code",
   "execution_count": 6,
   "metadata": {},
   "outputs": [],
   "source": [
    "from API import API\n",
    "api = API()"
   ]
  },
  {
   "cell_type": "code",
   "execution_count": 7,
   "metadata": {},
   "outputs": [
    {
     "data": {
      "text/plain": [
       "{'href': 'https://api.spotify.com/v1/users/31gvr6zmqkzap3viblky5yd7ylhi/playlists?offset=0&limit=20',\n",
       " 'items': [{'collaborative': False,\n",
       "   'description': '',\n",
       "   'external_urls': {'spotify': 'https://open.spotify.com/playlist/2koJSqDUbtZByp0qvHEUea'},\n",
       "   'href': 'https://api.spotify.com/v1/playlists/2koJSqDUbtZByp0qvHEUea',\n",
       "   'id': '2koJSqDUbtZByp0qvHEUea',\n",
       "   'images': [],\n",
       "   'name': 'python test',\n",
       "   'owner': {'display_name': 'musashishi',\n",
       "    'external_urls': {'spotify': 'https://open.spotify.com/user/31gvr6zmqkzap3viblky5yd7ylhi'},\n",
       "    'href': 'https://api.spotify.com/v1/users/31gvr6zmqkzap3viblky5yd7ylhi',\n",
       "    'id': '31gvr6zmqkzap3viblky5yd7ylhi',\n",
       "    'type': 'user',\n",
       "    'uri': 'spotify:user:31gvr6zmqkzap3viblky5yd7ylhi'},\n",
       "   'primary_color': None,\n",
       "   'public': True,\n",
       "   'snapshot_id': 'MSwyYjEzMzYwZjUwZDc4YzcxYTUwZDExNzA0MmYwNWVjN2Y0ZWRmZjZm',\n",
       "   'tracks': {'href': 'https://api.spotify.com/v1/playlists/2koJSqDUbtZByp0qvHEUea/tracks',\n",
       "    'total': 0},\n",
       "   'type': 'playlist',\n",
       "   'uri': 'spotify:playlist:2koJSqDUbtZByp0qvHEUea'},\n",
       "  {'collaborative': False,\n",
       "   'description': '',\n",
       "   'external_urls': {'spotify': 'https://open.spotify.com/playlist/3G0ROFJl2wRTed8a1y9EI3'},\n",
       "   'href': 'https://api.spotify.com/v1/playlists/3G0ROFJl2wRTed8a1y9EI3',\n",
       "   'id': '3G0ROFJl2wRTed8a1y9EI3',\n",
       "   'images': [{'height': 640,\n",
       "     'url': 'https://i.scdn.co/image/ab67616d0000b273c57ca033709146845d0ffa8f',\n",
       "     'width': 640}],\n",
       "   'name': 'test-post',\n",
       "   'owner': {'display_name': 'musashishi',\n",
       "    'external_urls': {'spotify': 'https://open.spotify.com/user/31gvr6zmqkzap3viblky5yd7ylhi'},\n",
       "    'href': 'https://api.spotify.com/v1/users/31gvr6zmqkzap3viblky5yd7ylhi',\n",
       "    'id': '31gvr6zmqkzap3viblky5yd7ylhi',\n",
       "    'type': 'user',\n",
       "    'uri': 'spotify:user:31gvr6zmqkzap3viblky5yd7ylhi'},\n",
       "   'primary_color': None,\n",
       "   'public': True,\n",
       "   'snapshot_id': 'Miw4Yzg0NzQxZTJlNDkwOGI3ZTY2MDk1YmNiMjBlOTY5YzE1M2UyMDVl',\n",
       "   'tracks': {'href': 'https://api.spotify.com/v1/playlists/3G0ROFJl2wRTed8a1y9EI3/tracks',\n",
       "    'total': 2},\n",
       "   'type': 'playlist',\n",
       "   'uri': 'spotify:playlist:3G0ROFJl2wRTed8a1y9EI3'},\n",
       "  {'collaborative': False,\n",
       "   'description': 'calm and mellow evening lofi hip hop beats to study , chill , relax , draw , focus , game , space out , daydream , dream &amp; sleep to 💤 dreamy hiphop , lush lo-fi , spacey lo fi , cozy hip-hop , Chillhop , jazzhop , relaxing , boom bap , chillout , sleeping , twitch stream | updated regularly',\n",
       "   'external_urls': {'spotify': 'https://open.spotify.com/playlist/3BH9HNgKSh6E1gVHAWRegN'},\n",
       "   'href': 'https://api.spotify.com/v1/playlists/3BH9HNgKSh6E1gVHAWRegN',\n",
       "   'id': '3BH9HNgKSh6E1gVHAWRegN',\n",
       "   'images': [{'height': None,\n",
       "     'url': 'https://i.scdn.co/image/ab67706c0000bebbc774a53bed68ffd0474020e2',\n",
       "     'width': None}],\n",
       "   'name': '💤 quiet lofi // sleepy lofi beats 💤 ',\n",
       "   'owner': {'display_name': 'Jamie Henwood',\n",
       "    'external_urls': {'spotify': 'https://open.spotify.com/user/1259822093'},\n",
       "    'href': 'https://api.spotify.com/v1/users/1259822093',\n",
       "    'id': '1259822093',\n",
       "    'type': 'user',\n",
       "    'uri': 'spotify:user:1259822093'},\n",
       "   'primary_color': None,\n",
       "   'public': False,\n",
       "   'snapshot_id': 'MTk3OCw5NTYzNjFhMzgzYzY0ZTMxOGM0NTIxYWM4MDViOTA0ZmRiMWJlZmI2',\n",
       "   'tracks': {'href': 'https://api.spotify.com/v1/playlists/3BH9HNgKSh6E1gVHAWRegN/tracks',\n",
       "    'total': 220},\n",
       "   'type': 'playlist',\n",
       "   'uri': 'spotify:playlist:3BH9HNgKSh6E1gVHAWRegN'},\n",
       "  {'collaborative': False,\n",
       "   'description': '',\n",
       "   'external_urls': {'spotify': 'https://open.spotify.com/playlist/4WVYZPqYzHx9BN9pq6YcJB'},\n",
       "   'href': 'https://api.spotify.com/v1/playlists/4WVYZPqYzHx9BN9pq6YcJB',\n",
       "   'id': '4WVYZPqYzHx9BN9pq6YcJB',\n",
       "   'images': [{'height': 640,\n",
       "     'url': 'https://i.scdn.co/image/ab67616d0000b2731faca82cbafe98a06ad696fb',\n",
       "     'width': 640}],\n",
       "   'name': 'Lofi',\n",
       "   'owner': {'display_name': 'musashishi',\n",
       "    'external_urls': {'spotify': 'https://open.spotify.com/user/31gvr6zmqkzap3viblky5yd7ylhi'},\n",
       "    'href': 'https://api.spotify.com/v1/users/31gvr6zmqkzap3viblky5yd7ylhi',\n",
       "    'id': '31gvr6zmqkzap3viblky5yd7ylhi',\n",
       "    'type': 'user',\n",
       "    'uri': 'spotify:user:31gvr6zmqkzap3viblky5yd7ylhi'},\n",
       "   'primary_color': None,\n",
       "   'public': True,\n",
       "   'snapshot_id': 'NCxiMDFjNDg1ZGUxMjA3NDE0NjQ3MzRkYWNkNjI5NWNjMGVlMzYwMGQw',\n",
       "   'tracks': {'href': 'https://api.spotify.com/v1/playlists/4WVYZPqYzHx9BN9pq6YcJB/tracks',\n",
       "    'total': 1},\n",
       "   'type': 'playlist',\n",
       "   'uri': 'spotify:playlist:4WVYZPqYzHx9BN9pq6YcJB'}],\n",
       " 'limit': 20,\n",
       " 'next': None,\n",
       " 'offset': 0,\n",
       " 'previous': None,\n",
       " 'total': 4}"
      ]
     },
     "execution_count": 7,
     "metadata": {},
     "output_type": "execute_result"
    }
   ],
   "source": [
    "# You may want to edit this method to give you a more usable response\n",
    "api.getPlaylists()"
   ]
  },
  {
   "cell_type": "code",
   "execution_count": 8,
   "metadata": {},
   "outputs": [
    {
     "name": "stdout",
     "output_type": "stream",
     "text": [
      "Dancey\n",
      "Blu\n",
      "I wish\n",
      "Chill vibes @Harry Plopper\n",
      "Holland Road trip '22\n",
      "Son House on Repeat\n",
      "My Playlist #54\n",
      "We Vibin'\n",
      "Old time feel-good\n",
      "AT last\n",
      "Summer 2020\n",
      "Israeli\n",
      "27 April 2020\n",
      "Junior M.A.F.I.A. Radio\n",
      "Pump it up\n",
      "Shower music\n",
      "Mushroom season\n",
      "October 11-12 2019\n",
      "Lola\n",
      "Pre-iPhone\n"
     ]
    }
   ],
   "source": [
    "# Test Asaf's id\n",
    "playlists = api.getPlaylists(user=\"21hrln7z7x7afddwq263yj34q\")\n",
    "for i in range(len(playlists['items'])):\n",
    "        print(playlists['items'][i]['name'])"
   ]
  },
  {
   "cell_type": "code",
   "execution_count": 9,
   "metadata": {},
   "outputs": [
    {
     "data": {
      "text/plain": [
       "45"
      ]
     },
     "execution_count": 9,
     "metadata": {},
     "output_type": "execute_result"
    }
   ],
   "source": [
    "new = api.generatePlaylistNames()\n",
    "len(new)"
   ]
  },
  {
   "cell_type": "code",
   "execution_count": 10,
   "metadata": {},
   "outputs": [
    {
     "name": "stdout",
     "output_type": "stream",
     "text": [
      "{\n",
      "  \"collaborative\" : false,\n",
      "  \"description\" : null,\n",
      "  \"external_urls\" : {\n",
      "    \"spotify\" : \"https://open.spotify.com/playlist/3K6av4dkR6slNLQixWcWRb\"\n",
      "  },\n",
      "  \"followers\" : {\n",
      "    \"href\" : null,\n",
      "    \"total\" : 0\n",
      "  },\n",
      "  \"href\" : \"https://api.spotify.com/v1/playlists/3K6av4dkR6slNLQixWcWRb\",\n",
      "  \"id\" : \"3K6av4dkR6slNLQixWcWRb\",\n",
      "  \"images\" : [ ],\n",
      "  \"name\" : \"python test\",\n",
      "  \"owner\" : {\n",
      "    \"display_name\" : \"musashishi\",\n",
      "    \"external_urls\" : {\n",
      "      \"spotify\" : \"https://open.spotify.com/user/31gvr6zmqkzap3viblky5yd7ylhi\"\n",
      "    },\n",
      "    \"href\" : \"https://api.spotify.com/v1/users/31gvr6zmqkzap3viblky5yd7ylhi\",\n",
      "    \"id\" : \"31gvr6zmqkzap3viblky5yd7ylhi\",\n",
      "    \"type\" : \"user\",\n",
      "    \"uri\" : \"spotify:user:31gvr6zmqkzap3viblky5yd7ylhi\"\n",
      "  },\n",
      "  \"primary_color\" : null,\n",
      "  \"public\" : true,\n",
      "  \"snapshot_id\" : \"MSwyNzc1YmYyODNjNWUzMDg3ZTY2ZTg3ODhlZjIzOTVjZmI3YmNkZTZm\",\n",
      "  \"tracks\" : {\n",
      "    \"href\" : \"https://api.spotify.com/v1/playlists/3K6av4dkR6slNLQixWcWRb/tracks\",\n",
      "    \"items\" : [ ],\n",
      "    \"limit\" : 100,\n",
      "    \"next\" : null,\n",
      "    \"offset\" : 0,\n",
      "    \"previous\" : null,\n",
      "    \"total\" : 0\n",
      "  },\n",
      "  \"type\" : \"playlist\",\n",
      "  \"uri\" : \"spotify:playlist:3K6av4dkR6slNLQixWcWRb\"\n",
      "}\n"
     ]
    }
   ],
   "source": [
    "api.createUserPlaylists()"
   ]
  },
  {
   "cell_type": "code",
   "execution_count": 1,
   "metadata": {},
   "outputs": [
    {
     "data": {
      "text/html": [
       "<div>\n",
       "<style scoped>\n",
       "    .dataframe tbody tr th:only-of-type {\n",
       "        vertical-align: middle;\n",
       "    }\n",
       "\n",
       "    .dataframe tbody tr th {\n",
       "        vertical-align: top;\n",
       "    }\n",
       "\n",
       "    .dataframe thead th {\n",
       "        text-align: right;\n",
       "    }\n",
       "</style>\n",
       "<table border=\"1\" class=\"dataframe\">\n",
       "  <thead>\n",
       "    <tr style=\"text-align: right;\">\n",
       "      <th></th>\n",
       "      <th>rec_id</th>\n",
       "      <th>track_id</th>\n",
       "      <th>rank</th>\n",
       "      <th>baseline_ranking</th>\n",
       "      <th>personalized_ranking</th>\n",
       "      <th>score</th>\n",
       "      <th>weight</th>\n",
       "    </tr>\n",
       "  </thead>\n",
       "  <tbody>\n",
       "    <tr>\n",
       "      <th>0</th>\n",
       "      <td>5a173e39-c860-4c52-baf8-fdecccd4705f</td>\n",
       "      <td>1ZzSwUgg7MqrEpxNaufJAZ</td>\n",
       "      <td>0</td>\n",
       "      <td>1.0</td>\n",
       "      <td>661.0</td>\n",
       "      <td>2376.0</td>\n",
       "      <td>0.0</td>\n",
       "    </tr>\n",
       "    <tr>\n",
       "      <th>1</th>\n",
       "      <td>5a173e39-c860-4c52-baf8-fdecccd4705f</td>\n",
       "      <td>7nT9lGk3bf5rvnVbzPIE3N</td>\n",
       "      <td>1</td>\n",
       "      <td>2.0</td>\n",
       "      <td>625.0</td>\n",
       "      <td>2375.0</td>\n",
       "      <td>0.0</td>\n",
       "    </tr>\n",
       "    <tr>\n",
       "      <th>2</th>\n",
       "      <td>5a173e39-c860-4c52-baf8-fdecccd4705f</td>\n",
       "      <td>6l2rZIEbZBw52PVDqDyf7A</td>\n",
       "      <td>2</td>\n",
       "      <td>3.0</td>\n",
       "      <td>1113.5</td>\n",
       "      <td>2374.0</td>\n",
       "      <td>0.0</td>\n",
       "    </tr>\n",
       "    <tr>\n",
       "      <th>3</th>\n",
       "      <td>5a173e39-c860-4c52-baf8-fdecccd4705f</td>\n",
       "      <td>7wOuNHPyTnGbZ5zjpG2Kp3</td>\n",
       "      <td>3</td>\n",
       "      <td>4.0</td>\n",
       "      <td>1111.5</td>\n",
       "      <td>2373.0</td>\n",
       "      <td>0.0</td>\n",
       "    </tr>\n",
       "    <tr>\n",
       "      <th>4</th>\n",
       "      <td>5a173e39-c860-4c52-baf8-fdecccd4705f</td>\n",
       "      <td>0LRTj3ZYiTZBcJz4GIuwat</td>\n",
       "      <td>4</td>\n",
       "      <td>5.0</td>\n",
       "      <td>1086.0</td>\n",
       "      <td>2372.0</td>\n",
       "      <td>0.0</td>\n",
       "    </tr>\n",
       "  </tbody>\n",
       "</table>\n",
       "</div>"
      ],
      "text/plain": [
       "                                 rec_id                track_id  rank  \\\n",
       "0  5a173e39-c860-4c52-baf8-fdecccd4705f  1ZzSwUgg7MqrEpxNaufJAZ     0   \n",
       "1  5a173e39-c860-4c52-baf8-fdecccd4705f  7nT9lGk3bf5rvnVbzPIE3N     1   \n",
       "2  5a173e39-c860-4c52-baf8-fdecccd4705f  6l2rZIEbZBw52PVDqDyf7A     2   \n",
       "3  5a173e39-c860-4c52-baf8-fdecccd4705f  7wOuNHPyTnGbZ5zjpG2Kp3     3   \n",
       "4  5a173e39-c860-4c52-baf8-fdecccd4705f  0LRTj3ZYiTZBcJz4GIuwat     4   \n",
       "\n",
       "   baseline_ranking  personalized_ranking   score  weight  \n",
       "0               1.0                 661.0  2376.0     0.0  \n",
       "1               2.0                 625.0  2375.0     0.0  \n",
       "2               3.0                1113.5  2374.0     0.0  \n",
       "3               4.0                1111.5  2373.0     0.0  \n",
       "4               5.0                1086.0  2372.0     0.0  "
      ]
     },
     "execution_count": 1,
     "metadata": {},
     "output_type": "execute_result"
    }
   ],
   "source": [
    "import pandas as pd\n",
    "recs = pd.read_csv(\"participant data/recommendation data/rec_tracks_all.csv\")\n",
    "recs.head()"
   ]
  }
 ],
 "metadata": {
  "kernelspec": {
   "display_name": "Python 3.10.6 ('venv': venv)",
   "language": "python",
   "name": "python3"
  },
  "language_info": {
   "codemirror_mode": {
    "name": "ipython",
    "version": 3
   },
   "file_extension": ".py",
   "mimetype": "text/x-python",
   "name": "python",
   "nbconvert_exporter": "python",
   "pygments_lexer": "ipython3",
   "version": "3.10.6"
  },
  "orig_nbformat": 4,
  "vscode": {
   "interpreter": {
    "hash": "953be8f9f5d2d8924318ea933725a0cba1e011a2089a1645318d391a1ca8694c"
   }
  }
 },
 "nbformat": 4,
 "nbformat_minor": 2
}
