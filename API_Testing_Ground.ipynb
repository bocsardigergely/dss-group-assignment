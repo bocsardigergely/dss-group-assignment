{
 "cells": [
  {
   "cell_type": "code",
   "execution_count": 1,
   "metadata": {},
   "outputs": [
    {
     "name": "stdout",
     "output_type": "stream",
     "text": [
      "OK\n"
     ]
    }
   ],
   "source": [
    "from API import API\n",
    "api = API()"
   ]
  },
  {
   "cell_type": "code",
   "execution_count": 2,
   "metadata": {},
   "outputs": [
    {
     "data": {
      "text/plain": [
       "['Dancey',\n",
       " 'Blu',\n",
       " 'I wish',\n",
       " 'Chill vibes @Harry Plopper',\n",
       " \"Holland Road trip '22\",\n",
       " 'Son House on Repeat',\n",
       " 'My Playlist #54',\n",
       " \"We Vibin'\",\n",
       " 'Old time feel-good',\n",
       " 'AT last',\n",
       " 'Summer 2020',\n",
       " 'Israeli',\n",
       " '27 April 2020',\n",
       " 'Junior M.A.F.I.A. Radio',\n",
       " 'Pump it up',\n",
       " 'Shower music',\n",
       " 'Mushroom season',\n",
       " 'October 11-12 2019',\n",
       " 'Lola',\n",
       " 'Pre-iPhone']"
      ]
     },
     "execution_count": 2,
     "metadata": {},
     "output_type": "execute_result"
    }
   ],
   "source": [
    "# Test Asaf's id\n",
    "Asaf = \"21hrln7z7x7afddwq263yj34q\"\n",
    "\n",
    "# For testing purposes\n",
    "def getPlaylistNames():\n",
    "        playlist_names = []\n",
    "        playlists = api.getPlaylists(Asaf)\n",
    "        for i in range(len(playlists)):\n",
    "                # print(playlists[i]['name'])\n",
    "                playlist_names.append(playlists[i]['name'])\n",
    "        return playlist_names\n",
    "\n",
    "playlist_names = getPlaylistNames()\n",
    "playlist_names\n",
    "        # print(playlists[i]['uri'])\n",
    "        # print()"
   ]
  },
  {
   "cell_type": "code",
   "execution_count": 3,
   "metadata": {},
   "outputs": [
    {
     "name": "stdout",
     "output_type": "stream",
     "text": [
      "Playlist Dancey found!\n"
     ]
    },
    {
     "data": {
      "text/plain": [
       "'3D34oTsGMwaThSCifPYyNZ'"
      ]
     },
     "execution_count": 3,
     "metadata": {},
     "output_type": "execute_result"
    }
   ],
   "source": [
    "playlist_uri = api.getPlaylistIdFromName(\"Dancey\", Asaf)\n",
    "playlist_uri"
   ]
  },
  {
   "cell_type": "code",
   "execution_count": 4,
   "metadata": {},
   "outputs": [
    {
     "name": "stdout",
     "output_type": "stream",
     "text": [
      "need to create this\n",
      "{\n",
      "  \"error\" : {\n",
      "    \"status\" : 403,\n",
      "    \"message\" : \"This request requires user authentication.\"\n",
      "  }\n",
      "}\n",
      "Creation of Dancey_copy failed.\n",
      "Dancey_copy in playlist_names?\n",
      "False\n"
     ]
    }
   ],
   "source": [
    "# Test adding 5 songs from my playlist to another one of Asaf's playlists (a test one)\n",
    "if \"Dancey_copy\" not in playlist_names:\n",
    "    print(\"need to create this\")\n",
    "    api.createPlaylist(\"Dancey_copy\")\n",
    "\n",
    "playlist_names = getPlaylistNames()\n",
    "print(f\"Dancey_copy in playlist_names?\\n{'Dancey_copy' in playlist_names}\")\n",
    "# TODO fix this failure by implementing implicit grant flow (requiring django or something, oof)"
   ]
  },
  {
   "cell_type": "code",
   "execution_count": 5,
   "metadata": {},
   "outputs": [],
   "source": [
    "# TODO Test adding songs, after successfully making the new auth type\n"
   ]
  },
  {
   "cell_type": "code",
   "execution_count": 6,
   "metadata": {},
   "outputs": [
    {
     "data": {
      "text/plain": [
       "90"
      ]
     },
     "execution_count": 6,
     "metadata": {},
     "output_type": "execute_result"
    }
   ],
   "source": [
    "new = api.generatePlaylistNames()\n",
    "len(new) # 45 for 2 playlists per user"
   ]
  },
  {
   "cell_type": "code",
   "execution_count": 7,
   "metadata": {},
   "outputs": [
    {
     "data": {
      "text/html": [
       "<div>\n",
       "<style scoped>\n",
       "    .dataframe tbody tr th:only-of-type {\n",
       "        vertical-align: middle;\n",
       "    }\n",
       "\n",
       "    .dataframe tbody tr th {\n",
       "        vertical-align: top;\n",
       "    }\n",
       "\n",
       "    .dataframe thead th {\n",
       "        text-align: right;\n",
       "    }\n",
       "</style>\n",
       "<table border=\"1\" class=\"dataframe\">\n",
       "  <thead>\n",
       "    <tr style=\"text-align: right;\">\n",
       "      <th></th>\n",
       "      <th>rec_id</th>\n",
       "      <th>track_id</th>\n",
       "      <th>rank</th>\n",
       "      <th>baseline_ranking</th>\n",
       "      <th>personalized_ranking</th>\n",
       "      <th>score</th>\n",
       "      <th>weight</th>\n",
       "    </tr>\n",
       "  </thead>\n",
       "  <tbody>\n",
       "    <tr>\n",
       "      <th>0</th>\n",
       "      <td>5a173e39-c860-4c52-baf8-fdecccd4705f</td>\n",
       "      <td>1ZzSwUgg7MqrEpxNaufJAZ</td>\n",
       "      <td>0</td>\n",
       "      <td>1.0</td>\n",
       "      <td>661.0</td>\n",
       "      <td>2376.0</td>\n",
       "      <td>0.0</td>\n",
       "    </tr>\n",
       "    <tr>\n",
       "      <th>1</th>\n",
       "      <td>5a173e39-c860-4c52-baf8-fdecccd4705f</td>\n",
       "      <td>7nT9lGk3bf5rvnVbzPIE3N</td>\n",
       "      <td>1</td>\n",
       "      <td>2.0</td>\n",
       "      <td>625.0</td>\n",
       "      <td>2375.0</td>\n",
       "      <td>0.0</td>\n",
       "    </tr>\n",
       "    <tr>\n",
       "      <th>2</th>\n",
       "      <td>5a173e39-c860-4c52-baf8-fdecccd4705f</td>\n",
       "      <td>6l2rZIEbZBw52PVDqDyf7A</td>\n",
       "      <td>2</td>\n",
       "      <td>3.0</td>\n",
       "      <td>1113.5</td>\n",
       "      <td>2374.0</td>\n",
       "      <td>0.0</td>\n",
       "    </tr>\n",
       "    <tr>\n",
       "      <th>3</th>\n",
       "      <td>5a173e39-c860-4c52-baf8-fdecccd4705f</td>\n",
       "      <td>7wOuNHPyTnGbZ5zjpG2Kp3</td>\n",
       "      <td>3</td>\n",
       "      <td>4.0</td>\n",
       "      <td>1111.5</td>\n",
       "      <td>2373.0</td>\n",
       "      <td>0.0</td>\n",
       "    </tr>\n",
       "    <tr>\n",
       "      <th>4</th>\n",
       "      <td>5a173e39-c860-4c52-baf8-fdecccd4705f</td>\n",
       "      <td>0LRTj3ZYiTZBcJz4GIuwat</td>\n",
       "      <td>4</td>\n",
       "      <td>5.0</td>\n",
       "      <td>1086.0</td>\n",
       "      <td>2372.0</td>\n",
       "      <td>0.0</td>\n",
       "    </tr>\n",
       "  </tbody>\n",
       "</table>\n",
       "</div>"
      ],
      "text/plain": [
       "                                 rec_id                track_id  rank  \\\n",
       "0  5a173e39-c860-4c52-baf8-fdecccd4705f  1ZzSwUgg7MqrEpxNaufJAZ     0   \n",
       "1  5a173e39-c860-4c52-baf8-fdecccd4705f  7nT9lGk3bf5rvnVbzPIE3N     1   \n",
       "2  5a173e39-c860-4c52-baf8-fdecccd4705f  6l2rZIEbZBw52PVDqDyf7A     2   \n",
       "3  5a173e39-c860-4c52-baf8-fdecccd4705f  7wOuNHPyTnGbZ5zjpG2Kp3     3   \n",
       "4  5a173e39-c860-4c52-baf8-fdecccd4705f  0LRTj3ZYiTZBcJz4GIuwat     4   \n",
       "\n",
       "   baseline_ranking  personalized_ranking   score  weight  \n",
       "0               1.0                 661.0  2376.0     0.0  \n",
       "1               2.0                 625.0  2375.0     0.0  \n",
       "2               3.0                1113.5  2374.0     0.0  \n",
       "3               4.0                1111.5  2373.0     0.0  \n",
       "4               5.0                1086.0  2372.0     0.0  "
      ]
     },
     "execution_count": 7,
     "metadata": {},
     "output_type": "execute_result"
    }
   ],
   "source": [
    "import pandas as pd\n",
    "recs = pd.read_csv(\"participant data/recommendation data/rec_tracks_all.csv\")\n",
    "recs.head()"
   ]
  }
 ],
 "metadata": {
  "kernelspec": {
   "display_name": "Python 3.10.6 ('venv': venv)",
   "language": "python",
   "name": "python3"
  },
  "language_info": {
   "codemirror_mode": {
    "name": "ipython",
    "version": 3
   },
   "file_extension": ".py",
   "mimetype": "text/x-python",
   "name": "python",
   "nbconvert_exporter": "python",
   "pygments_lexer": "ipython3",
   "version": "3.10.6"
  },
  "orig_nbformat": 4,
  "vscode": {
   "interpreter": {
    "hash": "953be8f9f5d2d8924318ea933725a0cba1e011a2089a1645318d391a1ca8694c"
   }
  }
 },
 "nbformat": 4,
 "nbformat_minor": 2
}
