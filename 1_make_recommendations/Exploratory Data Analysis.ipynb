{
 "cells": [
  {
   "cell_type": "code",
   "execution_count": 1,
   "metadata": {},
   "outputs": [
    {
     "name": "stdout",
     "output_type": "stream",
     "text": [
      "Time to start generating seeds!\n",
      "Seed_Generator.data set as your dataframe.\n"
     ]
    }
   ],
   "source": [
    "import pandas as pd\n",
    "import sys\n",
    "sys.path.append(\"../modules/\")\n",
    "from Seed_Generator import Seed_Generator\n",
    "df_top_tracks = pd.read_csv('../participant data/user spotify data/top_tracks.csv')\n",
    "sg = Seed_Generator()"
   ]
  },
  {
   "cell_type": "code",
   "execution_count": 2,
   "metadata": {},
   "outputs": [
    {
     "data": {
      "text/plain": [
       "0        NaN\n",
       "1        NaN\n",
       "2        NaN\n",
       "3        NaN\n",
       "4        NaN\n",
       "5        NaN\n",
       "6        NaN\n",
       "7        NaN\n",
       "8        NaN\n",
       "9        NaN\n",
       "10       NaN\n",
       "11       NaN\n",
       "12       NaN\n",
       "25       NaN\n",
       "26       NaN\n",
       "27       NaN\n",
       "28       NaN\n",
       "29       NaN\n",
       "30       NaN\n",
       "31       NaN\n",
       "32       NaN\n",
       "1914    jazz\n",
       "Name: genre_name, dtype: object"
      ]
     },
     "execution_count": 2,
     "metadata": {},
     "output_type": "execute_result"
    }
   ],
   "source": [
    "u = list(sg.data['user_id'].unique())[0]\n",
    "sg.data[sg.data['user_id'] == u]['genre_name']"
   ]
  },
  {
   "cell_type": "code",
   "execution_count": 3,
   "metadata": {},
   "outputs": [
    {
     "data": {
      "text/plain": [
       "47"
      ]
     },
     "execution_count": 3,
     "metadata": {},
     "output_type": "execute_result"
    }
   ],
   "source": [
    "diverse_tracks = dict()\n",
    "for user_id in list(df_top_tracks['user_id'].unique()):\n",
    "    diverse_tracks.update(sg.get_track_seeds(df_top_tracks, user_id, True, 3))\n",
    "len(diverse_tracks)"
   ]
  },
  {
   "cell_type": "code",
   "execution_count": 4,
   "metadata": {},
   "outputs": [
    {
     "data": {
      "text/plain": [
       "47"
      ]
     },
     "execution_count": 4,
     "metadata": {},
     "output_type": "execute_result"
    }
   ],
   "source": [
    "non_diverse_tracks = dict()\n",
    "for user_id in list(df_top_tracks['user_id'].unique()):\n",
    "    non_diverse_tracks.update(sg.get_track_seeds(df_top_tracks, user_id, False, 3))\n",
    "len(non_diverse_tracks)"
   ]
  },
  {
   "cell_type": "code",
   "execution_count": 5,
   "metadata": {},
   "outputs": [
    {
     "data": {
      "text/plain": [
       "['93c25a1d7af16a3f513dc53f3d1334c4a7f2df82925e215c110a7ba541c0bb9f',\n",
       " '32dbeaad7fa194eadff4c90a20d504390d86bcfcc93c2a6ce1826b6d0d3c2979']"
      ]
     },
     "execution_count": 5,
     "metadata": {},
     "output_type": "execute_result"
    }
   ],
   "source": [
    "weird_diverse_users = [key for key, value in diverse_tracks.items() if value == '']\n",
    "weird_diverse_users"
   ]
  },
  {
   "cell_type": "code",
   "execution_count": 6,
   "metadata": {},
   "outputs": [
    {
     "data": {
      "text/plain": [
       "['d28708a363b58062087293f779256fffa38fdd56c1f79d5e2855dfaa7a04f4e6',\n",
       " '1418fcc80d2e4febb58f44fcd93ff755df16b64edfa90076ab6e6707d79453ba',\n",
       " '93c25a1d7af16a3f513dc53f3d1334c4a7f2df82925e215c110a7ba541c0bb9f',\n",
       " '2ef41e03eea7359470b492771ef78ac792437960561b744f2c2bf6accaca15f6']"
      ]
     },
     "execution_count": 6,
     "metadata": {},
     "output_type": "execute_result"
    }
   ],
   "source": [
    "weird_nondiverse_users = [key for key, value in non_diverse_tracks.items() if value == '']\n",
    "weird_nondiverse_users"
   ]
  },
  {
   "cell_type": "code",
   "execution_count": 7,
   "metadata": {},
   "outputs": [
    {
     "data": {
      "text/html": [
       "<div>\n",
       "<style scoped>\n",
       "    .dataframe tbody tr th:only-of-type {\n",
       "        vertical-align: middle;\n",
       "    }\n",
       "\n",
       "    .dataframe tbody tr th {\n",
       "        vertical-align: top;\n",
       "    }\n",
       "\n",
       "    .dataframe thead th {\n",
       "        text-align: right;\n",
       "    }\n",
       "</style>\n",
       "<table border=\"1\" class=\"dataframe\">\n",
       "  <thead>\n",
       "    <tr style=\"text-align: right;\">\n",
       "      <th></th>\n",
       "      <th>user_id</th>\n",
       "      <th>track_id</th>\n",
       "      <th>time_period</th>\n",
       "      <th>timestamp</th>\n",
       "      <th>position</th>\n",
       "    </tr>\n",
       "  </thead>\n",
       "  <tbody>\n",
       "    <tr>\n",
       "      <th>3153</th>\n",
       "      <td>93c25a1d7af16a3f513dc53f3d1334c4a7f2df82925e21...</td>\n",
       "      <td>5GQAHsTo4DI71QLAXUo3DV</td>\n",
       "      <td>long</td>\n",
       "      <td>1.668428e+09</td>\n",
       "      <td>0</td>\n",
       "    </tr>\n",
       "    <tr>\n",
       "      <th>3154</th>\n",
       "      <td>93c25a1d7af16a3f513dc53f3d1334c4a7f2df82925e21...</td>\n",
       "      <td>46N0cSUeoKfdGOGG852Jk1</td>\n",
       "      <td>long</td>\n",
       "      <td>1.668428e+09</td>\n",
       "      <td>1</td>\n",
       "    </tr>\n",
       "    <tr>\n",
       "      <th>3155</th>\n",
       "      <td>32dbeaad7fa194eadff4c90a20d504390d86bcfcc93c2a...</td>\n",
       "      <td>7ef4DlsgrMEH11cDZd32M6</td>\n",
       "      <td>medium</td>\n",
       "      <td>1.668431e+09</td>\n",
       "      <td>0</td>\n",
       "    </tr>\n",
       "    <tr>\n",
       "      <th>3704</th>\n",
       "      <td>32dbeaad7fa194eadff4c90a20d504390d86bcfcc93c2a...</td>\n",
       "      <td>7ef4DlsgrMEH11cDZd32M6</td>\n",
       "      <td>short</td>\n",
       "      <td>1.668431e+09</td>\n",
       "      <td>0</td>\n",
       "    </tr>\n",
       "    <tr>\n",
       "      <th>3705</th>\n",
       "      <td>32dbeaad7fa194eadff4c90a20d504390d86bcfcc93c2a...</td>\n",
       "      <td>7ef4DlsgrMEH11cDZd32M6</td>\n",
       "      <td>long</td>\n",
       "      <td>1.668431e+09</td>\n",
       "      <td>0</td>\n",
       "    </tr>\n",
       "  </tbody>\n",
       "</table>\n",
       "</div>"
      ],
      "text/plain": [
       "                                                user_id  \\\n",
       "3153  93c25a1d7af16a3f513dc53f3d1334c4a7f2df82925e21...   \n",
       "3154  93c25a1d7af16a3f513dc53f3d1334c4a7f2df82925e21...   \n",
       "3155  32dbeaad7fa194eadff4c90a20d504390d86bcfcc93c2a...   \n",
       "3704  32dbeaad7fa194eadff4c90a20d504390d86bcfcc93c2a...   \n",
       "3705  32dbeaad7fa194eadff4c90a20d504390d86bcfcc93c2a...   \n",
       "\n",
       "                    track_id time_period     timestamp  position  \n",
       "3153  5GQAHsTo4DI71QLAXUo3DV        long  1.668428e+09         0  \n",
       "3154  46N0cSUeoKfdGOGG852Jk1        long  1.668428e+09         1  \n",
       "3155  7ef4DlsgrMEH11cDZd32M6      medium  1.668431e+09         0  \n",
       "3704  7ef4DlsgrMEH11cDZd32M6       short  1.668431e+09         0  \n",
       "3705  7ef4DlsgrMEH11cDZd32M6        long  1.668431e+09         0  "
      ]
     },
     "execution_count": 7,
     "metadata": {},
     "output_type": "execute_result"
    }
   ],
   "source": [
    "df_top_tracks[df_top_tracks['user_id'].isin(weird_diverse_users)]\n",
    "# So these get weird diverse results because they only have 2 or 3 songs, not 45 songs\n",
    "# TODO add handling for this, too few songs"
   ]
  },
  {
   "cell_type": "code",
   "execution_count": 8,
   "metadata": {},
   "outputs": [
    {
     "data": {
      "text/plain": [
       "array(['medium', 'long'], dtype=object)"
      ]
     },
     "execution_count": 8,
     "metadata": {},
     "output_type": "execute_result"
    }
   ],
   "source": [
    "df_top_tracks[df_top_tracks['user_id'].isin(weird_nondiverse_users)]['time_period'].unique()\n",
    "# TODO change to handle: current code gets only 'short' time_period"
   ]
  },
  {
   "cell_type": "code",
   "execution_count": 9,
   "metadata": {},
   "outputs": [
    {
     "data": {
      "text/html": [
       "<div>\n",
       "<style scoped>\n",
       "    .dataframe tbody tr th:only-of-type {\n",
       "        vertical-align: middle;\n",
       "    }\n",
       "\n",
       "    .dataframe tbody tr th {\n",
       "        vertical-align: top;\n",
       "    }\n",
       "\n",
       "    .dataframe thead th {\n",
       "        text-align: right;\n",
       "    }\n",
       "</style>\n",
       "<table border=\"1\" class=\"dataframe\">\n",
       "  <thead>\n",
       "    <tr style=\"text-align: right;\">\n",
       "      <th></th>\n",
       "      <th>user_id</th>\n",
       "      <th>track_id</th>\n",
       "      <th>time_period</th>\n",
       "      <th>timestamp</th>\n",
       "      <th>position</th>\n",
       "      <th>rec_id</th>\n",
       "      <th>rank</th>\n",
       "      <th>baseline_ranking</th>\n",
       "      <th>personalized_ranking</th>\n",
       "      <th>score</th>\n",
       "      <th>weight</th>\n",
       "      <th>genre_name</th>\n",
       "      <th>start_ts</th>\n",
       "    </tr>\n",
       "  </thead>\n",
       "  <tbody>\n",
       "    <tr>\n",
       "      <th>0</th>\n",
       "      <td>12f2e84ef897c8e32d9919871acbe861b4ac4b5ef26117...</td>\n",
       "      <td>5hF2LnbkpnXCkksMSeWcxZ</td>\n",
       "      <td>short</td>\n",
       "      <td>1.666491e+09</td>\n",
       "      <td>19.0</td>\n",
       "      <td>1fed6b23-2c61-463a-9c82-e3f969684c53</td>\n",
       "      <td>205.0</td>\n",
       "      <td>1110.0</td>\n",
       "      <td>652.0</td>\n",
       "      <td>2252.60</td>\n",
       "      <td>0.2</td>\n",
       "      <td>NaN</td>\n",
       "      <td>NaN</td>\n",
       "    </tr>\n",
       "    <tr>\n",
       "      <th>1</th>\n",
       "      <td>12f2e84ef897c8e32d9919871acbe861b4ac4b5ef26117...</td>\n",
       "      <td>3xKsf9qdS1CyvXSMEid6g8</td>\n",
       "      <td>long</td>\n",
       "      <td>1.666491e+09</td>\n",
       "      <td>14.0</td>\n",
       "      <td>1fed6b23-2c61-463a-9c82-e3f969684c53</td>\n",
       "      <td>183.0</td>\n",
       "      <td>2966.0</td>\n",
       "      <td>27.0</td>\n",
       "      <td>1774.50</td>\n",
       "      <td>0.5</td>\n",
       "      <td>NaN</td>\n",
       "      <td>NaN</td>\n",
       "    </tr>\n",
       "    <tr>\n",
       "      <th>2</th>\n",
       "      <td>12f2e84ef897c8e32d9919871acbe861b4ac4b5ef26117...</td>\n",
       "      <td>5hF2LnbkpnXCkksMSeWcxZ</td>\n",
       "      <td>short</td>\n",
       "      <td>1.666491e+09</td>\n",
       "      <td>19.0</td>\n",
       "      <td>60bb2af8-f21e-4d0a-9044-0661d40ac018</td>\n",
       "      <td>205.0</td>\n",
       "      <td>1110.0</td>\n",
       "      <td>652.0</td>\n",
       "      <td>2252.60</td>\n",
       "      <td>0.2</td>\n",
       "      <td>NaN</td>\n",
       "      <td>NaN</td>\n",
       "    </tr>\n",
       "    <tr>\n",
       "      <th>3</th>\n",
       "      <td>12f2e84ef897c8e32d9919871acbe861b4ac4b5ef26117...</td>\n",
       "      <td>3xKsf9qdS1CyvXSMEid6g8</td>\n",
       "      <td>long</td>\n",
       "      <td>1.666491e+09</td>\n",
       "      <td>14.0</td>\n",
       "      <td>60bb2af8-f21e-4d0a-9044-0661d40ac018</td>\n",
       "      <td>183.0</td>\n",
       "      <td>2966.0</td>\n",
       "      <td>27.0</td>\n",
       "      <td>1774.50</td>\n",
       "      <td>0.5</td>\n",
       "      <td>NaN</td>\n",
       "      <td>NaN</td>\n",
       "    </tr>\n",
       "    <tr>\n",
       "      <th>4</th>\n",
       "      <td>12f2e84ef897c8e32d9919871acbe861b4ac4b5ef26117...</td>\n",
       "      <td>5hF2LnbkpnXCkksMSeWcxZ</td>\n",
       "      <td>short</td>\n",
       "      <td>1.666491e+09</td>\n",
       "      <td>19.0</td>\n",
       "      <td>b76e977a-eab8-4dac-b729-96bcde52d9b0</td>\n",
       "      <td>66.0</td>\n",
       "      <td>1110.0</td>\n",
       "      <td>929.5</td>\n",
       "      <td>2215.15</td>\n",
       "      <td>0.3</td>\n",
       "      <td>NaN</td>\n",
       "      <td>NaN</td>\n",
       "    </tr>\n",
       "    <tr>\n",
       "      <th>...</th>\n",
       "      <td>...</td>\n",
       "      <td>...</td>\n",
       "      <td>...</td>\n",
       "      <td>...</td>\n",
       "      <td>...</td>\n",
       "      <td>...</td>\n",
       "      <td>...</td>\n",
       "      <td>...</td>\n",
       "      <td>...</td>\n",
       "      <td>...</td>\n",
       "      <td>...</td>\n",
       "      <td>...</td>\n",
       "      <td>...</td>\n",
       "    </tr>\n",
       "    <tr>\n",
       "      <th>1960</th>\n",
       "      <td>2152111cf613aa1265823312e10228041da0416221a3df...</td>\n",
       "      <td>NaN</td>\n",
       "      <td>NaN</td>\n",
       "      <td>NaN</td>\n",
       "      <td>NaN</td>\n",
       "      <td>a0145f62-ff58-4471-9ed5-ced6147329b3</td>\n",
       "      <td>NaN</td>\n",
       "      <td>NaN</td>\n",
       "      <td>NaN</td>\n",
       "      <td>NaN</td>\n",
       "      <td>NaN</td>\n",
       "      <td>classical</td>\n",
       "      <td>1.668466e+09</td>\n",
       "    </tr>\n",
       "    <tr>\n",
       "      <th>1961</th>\n",
       "      <td>811dc65452d1be20e073f385ee6f0df18ee97d54f8edc1...</td>\n",
       "      <td>NaN</td>\n",
       "      <td>NaN</td>\n",
       "      <td>NaN</td>\n",
       "      <td>NaN</td>\n",
       "      <td>cee8c8b9-c34e-4f7d-9caa-70dcbfec6907</td>\n",
       "      <td>NaN</td>\n",
       "      <td>NaN</td>\n",
       "      <td>NaN</td>\n",
       "      <td>NaN</td>\n",
       "      <td>NaN</td>\n",
       "      <td>rap</td>\n",
       "      <td>1.668500e+09</td>\n",
       "    </tr>\n",
       "    <tr>\n",
       "      <th>1962</th>\n",
       "      <td>811dc65452d1be20e073f385ee6f0df18ee97d54f8edc1...</td>\n",
       "      <td>NaN</td>\n",
       "      <td>NaN</td>\n",
       "      <td>NaN</td>\n",
       "      <td>NaN</td>\n",
       "      <td>dfe44ec8-febb-410b-8f54-025988510466</td>\n",
       "      <td>NaN</td>\n",
       "      <td>NaN</td>\n",
       "      <td>NaN</td>\n",
       "      <td>NaN</td>\n",
       "      <td>NaN</td>\n",
       "      <td>rnb</td>\n",
       "      <td>1.668501e+09</td>\n",
       "    </tr>\n",
       "    <tr>\n",
       "      <th>1963</th>\n",
       "      <td>5851c21c9e3bb3518644ee6b6af3c51c20649fa456449f...</td>\n",
       "      <td>NaN</td>\n",
       "      <td>NaN</td>\n",
       "      <td>NaN</td>\n",
       "      <td>NaN</td>\n",
       "      <td>40e99946-a5c1-4201-9fec-3561c35a972a</td>\n",
       "      <td>NaN</td>\n",
       "      <td>NaN</td>\n",
       "      <td>NaN</td>\n",
       "      <td>NaN</td>\n",
       "      <td>NaN</td>\n",
       "      <td>folk</td>\n",
       "      <td>1.668501e+09</td>\n",
       "    </tr>\n",
       "    <tr>\n",
       "      <th>1964</th>\n",
       "      <td>508580d6e4f48b7c202c93bc3a485a116fb850b65102f5...</td>\n",
       "      <td>NaN</td>\n",
       "      <td>NaN</td>\n",
       "      <td>NaN</td>\n",
       "      <td>NaN</td>\n",
       "      <td>fdc7c9b5-187c-43e1-8084-0537b4fc1877</td>\n",
       "      <td>NaN</td>\n",
       "      <td>NaN</td>\n",
       "      <td>NaN</td>\n",
       "      <td>NaN</td>\n",
       "      <td>NaN</td>\n",
       "      <td>classical</td>\n",
       "      <td>1.668502e+09</td>\n",
       "    </tr>\n",
       "  </tbody>\n",
       "</table>\n",
       "<p>1965 rows × 13 columns</p>\n",
       "</div>"
      ],
      "text/plain": [
       "                                                user_id  \\\n",
       "0     12f2e84ef897c8e32d9919871acbe861b4ac4b5ef26117...   \n",
       "1     12f2e84ef897c8e32d9919871acbe861b4ac4b5ef26117...   \n",
       "2     12f2e84ef897c8e32d9919871acbe861b4ac4b5ef26117...   \n",
       "3     12f2e84ef897c8e32d9919871acbe861b4ac4b5ef26117...   \n",
       "4     12f2e84ef897c8e32d9919871acbe861b4ac4b5ef26117...   \n",
       "...                                                 ...   \n",
       "1960  2152111cf613aa1265823312e10228041da0416221a3df...   \n",
       "1961  811dc65452d1be20e073f385ee6f0df18ee97d54f8edc1...   \n",
       "1962  811dc65452d1be20e073f385ee6f0df18ee97d54f8edc1...   \n",
       "1963  5851c21c9e3bb3518644ee6b6af3c51c20649fa456449f...   \n",
       "1964  508580d6e4f48b7c202c93bc3a485a116fb850b65102f5...   \n",
       "\n",
       "                    track_id time_period     timestamp  position  \\\n",
       "0     5hF2LnbkpnXCkksMSeWcxZ       short  1.666491e+09      19.0   \n",
       "1     3xKsf9qdS1CyvXSMEid6g8        long  1.666491e+09      14.0   \n",
       "2     5hF2LnbkpnXCkksMSeWcxZ       short  1.666491e+09      19.0   \n",
       "3     3xKsf9qdS1CyvXSMEid6g8        long  1.666491e+09      14.0   \n",
       "4     5hF2LnbkpnXCkksMSeWcxZ       short  1.666491e+09      19.0   \n",
       "...                      ...         ...           ...       ...   \n",
       "1960                     NaN         NaN           NaN       NaN   \n",
       "1961                     NaN         NaN           NaN       NaN   \n",
       "1962                     NaN         NaN           NaN       NaN   \n",
       "1963                     NaN         NaN           NaN       NaN   \n",
       "1964                     NaN         NaN           NaN       NaN   \n",
       "\n",
       "                                    rec_id   rank  baseline_ranking  \\\n",
       "0     1fed6b23-2c61-463a-9c82-e3f969684c53  205.0            1110.0   \n",
       "1     1fed6b23-2c61-463a-9c82-e3f969684c53  183.0            2966.0   \n",
       "2     60bb2af8-f21e-4d0a-9044-0661d40ac018  205.0            1110.0   \n",
       "3     60bb2af8-f21e-4d0a-9044-0661d40ac018  183.0            2966.0   \n",
       "4     b76e977a-eab8-4dac-b729-96bcde52d9b0   66.0            1110.0   \n",
       "...                                    ...    ...               ...   \n",
       "1960  a0145f62-ff58-4471-9ed5-ced6147329b3    NaN               NaN   \n",
       "1961  cee8c8b9-c34e-4f7d-9caa-70dcbfec6907    NaN               NaN   \n",
       "1962  dfe44ec8-febb-410b-8f54-025988510466    NaN               NaN   \n",
       "1963  40e99946-a5c1-4201-9fec-3561c35a972a    NaN               NaN   \n",
       "1964  fdc7c9b5-187c-43e1-8084-0537b4fc1877    NaN               NaN   \n",
       "\n",
       "      personalized_ranking    score  weight genre_name      start_ts  \n",
       "0                    652.0  2252.60     0.2        NaN           NaN  \n",
       "1                     27.0  1774.50     0.5        NaN           NaN  \n",
       "2                    652.0  2252.60     0.2        NaN           NaN  \n",
       "3                     27.0  1774.50     0.5        NaN           NaN  \n",
       "4                    929.5  2215.15     0.3        NaN           NaN  \n",
       "...                    ...      ...     ...        ...           ...  \n",
       "1960                   NaN      NaN     NaN  classical  1.668466e+09  \n",
       "1961                   NaN      NaN     NaN        rap  1.668500e+09  \n",
       "1962                   NaN      NaN     NaN        rnb  1.668501e+09  \n",
       "1963                   NaN      NaN     NaN       folk  1.668501e+09  \n",
       "1964                   NaN      NaN     NaN  classical  1.668502e+09  \n",
       "\n",
       "[1965 rows x 13 columns]"
      ]
     },
     "execution_count": 9,
     "metadata": {},
     "output_type": "execute_result"
    }
   ],
   "source": [
    "sg.data"
   ]
  },
  {
   "cell_type": "code",
   "execution_count": 10,
   "metadata": {},
   "outputs": [
    {
     "data": {
      "text/plain": [
       "array([nan, 'rap', 'pop-rock', 'electronic', 'country', 'new-age',\n",
       "       'reggae', 'latin', 'classical', 'jazz', 'rnb', 'blues',\n",
       "       'avant-garde', 'folk'], dtype=object)"
      ]
     },
     "execution_count": 10,
     "metadata": {},
     "output_type": "execute_result"
    }
   ],
   "source": [
    "sg.data['genre_name'].unique()"
   ]
  },
  {
   "cell_type": "code",
   "execution_count": 11,
   "metadata": {},
   "outputs": [
    {
     "name": "stdout",
     "output_type": "stream",
     "text": [
      "final length: 2\n",
      "final length: 2\n",
      "final length: 2\n",
      "final length: 2\n",
      "final length: 2\n",
      "final length: 2\n",
      "final length: 2\n",
      "final length: 2\n",
      "final length: 2\n",
      "final length: 2\n",
      "final length: 2\n",
      "final length: 2\n",
      "final length: 2\n",
      "final length: 2\n",
      "final length: 2\n",
      "final length: 2\n",
      "final length: 2\n",
      "final length: 2\n",
      "final length: 2\n",
      "final length: 2\n",
      "final length: 2\n",
      "final length: 2\n",
      "final length: 2\n",
      "final length: 2\n",
      "final length: 2\n",
      "final length: 2\n",
      "final length: 2\n"
     ]
    },
    {
     "data": {
      "text/plain": [
       "45"
      ]
     },
     "execution_count": 11,
     "metadata": {},
     "output_type": "execute_result"
    }
   ],
   "source": [
    "diverse_genres = dict()\n",
    "user_ids = list(sg.data['user_id'].unique())\n",
    "for user_id in user_ids:\n",
    "    diverse_genres.update(sg.get_genre_seeds(sg.data, user_id, True, 2))\n",
    "len(diverse_genres)"
   ]
  },
  {
   "cell_type": "code",
   "execution_count": 12,
   "metadata": {},
   "outputs": [
    {
     "data": {
      "text/plain": [
       "'classical,rnb'"
      ]
     },
     "execution_count": 12,
     "metadata": {},
     "output_type": "execute_result"
    }
   ],
   "source": [
    "diverse_genres[list(diverse_genres.keys())[2]]"
   ]
  },
  {
   "cell_type": "code",
   "execution_count": 13,
   "metadata": {},
   "outputs": [
    {
     "name": "stdout",
     "output_type": "stream",
     "text": [
      "final length: 2\n",
      "final length: 2\n",
      "final length: 2\n",
      "final length: 2\n",
      "final length: 2\n",
      "final length: 2\n",
      "final length: 2\n",
      "final length: 2\n",
      "final length: 2\n",
      "final length: 2\n",
      "final length: 2\n",
      "final length: 2\n",
      "final length: 2\n",
      "final length: 2\n",
      "final length: 2\n",
      "final length: 2\n",
      "final length: 2\n",
      "final length: 2\n",
      "final length: 2\n",
      "final length: 2\n",
      "final length: 2\n",
      "final length: 2\n",
      "final length: 2\n",
      "final length: 2\n",
      "final length: 2\n",
      "final length: 2\n",
      "final length: 2\n"
     ]
    },
    {
     "data": {
      "text/plain": [
       "45"
      ]
     },
     "execution_count": 13,
     "metadata": {},
     "output_type": "execute_result"
    }
   ],
   "source": [
    "non_diverse_genres = dict()\n",
    "for user_id in list(sg.data['user_id'].unique()):\n",
    "    non_diverse_genres.update(sg.get_genre_seeds(sg.data, user_id, False, 2))\n",
    "len(non_diverse_genres)"
   ]
  },
  {
   "cell_type": "code",
   "execution_count": 14,
   "metadata": {},
   "outputs": [],
   "source": [
    "def getDF(diverse):\n",
    "    if diverse:\n",
    "        tracks_df = pd.DataFrame.from_dict(diverse_tracks, orient='index', columns=['track_seeds']).reset_index(level=0).rename({'index':'user_id'}, axis = 'columns')\n",
    "        genre_df = pd.DataFrame.from_dict(diverse_genres, orient='index', columns=['genre_seeds']).reset_index(level=0).rename({'index':'user_id'}, axis = 'columns')\n",
    "    else:\n",
    "        tracks_df = pd.DataFrame.from_dict(non_diverse_tracks, orient='index', columns=['track_seeds']).reset_index(level=0).rename({'index':'user_id'}, axis = 'columns')\n",
    "        genre_df = pd.DataFrame.from_dict(non_diverse_genres, orient='index', columns=['genre_seeds']).reset_index(level=0).rename({'index':'user_id'}, axis = 'columns')\n",
    "        \n",
    "    return pd.merge(tracks_df, genre_df)    "
   ]
  },
  {
   "cell_type": "code",
   "execution_count": 16,
   "metadata": {},
   "outputs": [],
   "source": [
    "# Save them\n",
    "getDF(True).to_csv('../participant data/seeds_diverse.csv')\n",
    "getDF(False).to_csv('../participant data/seeds_non_diverse.csv')"
   ]
  }
 ],
 "metadata": {
  "kernelspec": {
   "display_name": "Python 3.10.6 64-bit",
   "language": "python",
   "name": "python3"
  },
  "language_info": {
   "codemirror_mode": {
    "name": "ipython",
    "version": 3
   },
   "file_extension": ".py",
   "mimetype": "text/x-python",
   "name": "python",
   "nbconvert_exporter": "python",
   "pygments_lexer": "ipython3",
   "version": "3.10.6"
  },
  "orig_nbformat": 4,
  "vscode": {
   "interpreter": {
    "hash": "916dbcbb3f70747c44a77c7bcd40155683ae19c65e1c03b4aa3499c5328201f1"
   }
  }
 },
 "nbformat": 4,
 "nbformat_minor": 2
}
