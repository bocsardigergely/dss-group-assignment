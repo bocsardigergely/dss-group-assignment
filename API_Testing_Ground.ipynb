{
 "cells": [
  {
   "cell_type": "code",
   "execution_count": 1,
   "metadata": {},
   "outputs": [
    {
     "name": "stdout",
     "output_type": "stream",
     "text": [
      "Test printing test test\n"
     ]
    },
    {
     "name": "stderr",
     "output_type": "stream",
     "text": [
      "'FLASK_ENV' is deprecated and will not be used in Flask 2.3. Use 'FLASK_DEBUG' instead.\n",
      "'FLASK_ENV' is deprecated and will not be used in Flask 2.3. Use 'FLASK_DEBUG' instead.\n",
      "'FLASK_ENV' is deprecated and will not be used in Flask 2.3. Use 'FLASK_DEBUG' instead.\n",
      "2022-11-29 02:04:04,635 - INFO - \u001b[31m\u001b[1mWARNING: This is a development server. Do not use it in a production deployment. Use a production WSGI server instead.\u001b[0m\n",
      " * Running on http://127.0.0.1:5000\n",
      "2022-11-29 02:04:04,635 - INFO - \u001b[33mPress CTRL+C to quit\u001b[0m\n",
      "2022-11-29 02:04:04,636 - INFO -  * Restarting with stat\n",
      "'FLASK_ENV' is deprecated and will not be used in Flask 2.3. Use 'FLASK_DEBUG' instead.\n",
      "'FLASK_ENV' is deprecated and will not be used in Flask 2.3. Use 'FLASK_DEBUG' instead.\n",
      "'FLASK_ENV' is deprecated and will not be used in Flask 2.3. Use 'FLASK_DEBUG' instead.\n",
      "2022-11-29 02:04:04,741 - WARNING -  * Debugger is active!\n",
      "2022-11-29 02:04:04,741 - INFO -  * Debugger PIN: 896-048-141\n",
      "2022-11-29 02:04:06,239 - INFO - 127.0.0.1 - - [29/Nov/2022 02:04:06] \"GET / HTTP/1.1\" 200 -\n",
      "2022-11-29 02:04:06,318 - INFO - 127.0.0.1 - - [29/Nov/2022 02:04:06] \"\u001b[33mGET /favicon.ico HTTP/1.1\u001b[0m\" 404 -\n",
      "2022-11-29 02:04:06,336 - INFO - 127.0.0.1 - - [29/Nov/2022 02:04:06] \"\u001b[32mGET /auth HTTP/1.1\u001b[0m\" 302 -\n",
      "2022-11-29 02:04:07,504 - INFO - 127.0.0.1 - - [29/Nov/2022 02:04:07] \"GET /callback HTTP/1.1\" 200 -\n"
     ]
    },
    {
     "name": "stdout",
     "output_type": "stream",
     "text": [
      "\n"
     ]
    }
   ],
   "source": [
    "from API import API\n",
    "api = API()"
   ]
  },
  {
   "cell_type": "code",
   "execution_count": 2,
   "metadata": {},
   "outputs": [
    {
     "data": {
      "text/plain": [
       "[{'collaborative': False,\n",
       "  'description': '',\n",
       "  'external_urls': {'spotify': 'https://open.spotify.com/playlist/2koJSqDUbtZByp0qvHEUea'},\n",
       "  'href': 'https://api.spotify.com/v1/playlists/2koJSqDUbtZByp0qvHEUea',\n",
       "  'id': '2koJSqDUbtZByp0qvHEUea',\n",
       "  'images': [],\n",
       "  'name': 'python test',\n",
       "  'owner': {'display_name': 'musashishi',\n",
       "   'external_urls': {'spotify': 'https://open.spotify.com/user/31gvr6zmqkzap3viblky5yd7ylhi'},\n",
       "   'href': 'https://api.spotify.com/v1/users/31gvr6zmqkzap3viblky5yd7ylhi',\n",
       "   'id': '31gvr6zmqkzap3viblky5yd7ylhi',\n",
       "   'type': 'user',\n",
       "   'uri': 'spotify:user:31gvr6zmqkzap3viblky5yd7ylhi'},\n",
       "  'primary_color': None,\n",
       "  'public': True,\n",
       "  'snapshot_id': 'MSwyYjEzMzYwZjUwZDc4YzcxYTUwZDExNzA0MmYwNWVjN2Y0ZWRmZjZm',\n",
       "  'tracks': {'href': 'https://api.spotify.com/v1/playlists/2koJSqDUbtZByp0qvHEUea/tracks',\n",
       "   'total': 0},\n",
       "  'type': 'playlist',\n",
       "  'uri': 'spotify:playlist:2koJSqDUbtZByp0qvHEUea'},\n",
       " {'collaborative': False,\n",
       "  'description': '',\n",
       "  'external_urls': {'spotify': 'https://open.spotify.com/playlist/3G0ROFJl2wRTed8a1y9EI3'},\n",
       "  'href': 'https://api.spotify.com/v1/playlists/3G0ROFJl2wRTed8a1y9EI3',\n",
       "  'id': '3G0ROFJl2wRTed8a1y9EI3',\n",
       "  'images': [{'height': 640,\n",
       "    'url': 'https://i.scdn.co/image/ab67616d0000b273c57ca033709146845d0ffa8f',\n",
       "    'width': 640}],\n",
       "  'name': 'test-post',\n",
       "  'owner': {'display_name': 'musashishi',\n",
       "   'external_urls': {'spotify': 'https://open.spotify.com/user/31gvr6zmqkzap3viblky5yd7ylhi'},\n",
       "   'href': 'https://api.spotify.com/v1/users/31gvr6zmqkzap3viblky5yd7ylhi',\n",
       "   'id': '31gvr6zmqkzap3viblky5yd7ylhi',\n",
       "   'type': 'user',\n",
       "   'uri': 'spotify:user:31gvr6zmqkzap3viblky5yd7ylhi'},\n",
       "  'primary_color': None,\n",
       "  'public': True,\n",
       "  'snapshot_id': 'Miw4Yzg0NzQxZTJlNDkwOGI3ZTY2MDk1YmNiMjBlOTY5YzE1M2UyMDVl',\n",
       "  'tracks': {'href': 'https://api.spotify.com/v1/playlists/3G0ROFJl2wRTed8a1y9EI3/tracks',\n",
       "   'total': 2},\n",
       "  'type': 'playlist',\n",
       "  'uri': 'spotify:playlist:3G0ROFJl2wRTed8a1y9EI3'},\n",
       " {'collaborative': False,\n",
       "  'description': '',\n",
       "  'external_urls': {'spotify': 'https://open.spotify.com/playlist/4WVYZPqYzHx9BN9pq6YcJB'},\n",
       "  'href': 'https://api.spotify.com/v1/playlists/4WVYZPqYzHx9BN9pq6YcJB',\n",
       "  'id': '4WVYZPqYzHx9BN9pq6YcJB',\n",
       "  'images': [{'height': 640,\n",
       "    'url': 'https://i.scdn.co/image/ab67616d0000b2731faca82cbafe98a06ad696fb',\n",
       "    'width': 640}],\n",
       "  'name': 'Lofi',\n",
       "  'owner': {'display_name': 'musashishi',\n",
       "   'external_urls': {'spotify': 'https://open.spotify.com/user/31gvr6zmqkzap3viblky5yd7ylhi'},\n",
       "   'href': 'https://api.spotify.com/v1/users/31gvr6zmqkzap3viblky5yd7ylhi',\n",
       "   'id': '31gvr6zmqkzap3viblky5yd7ylhi',\n",
       "   'type': 'user',\n",
       "   'uri': 'spotify:user:31gvr6zmqkzap3viblky5yd7ylhi'},\n",
       "  'primary_color': None,\n",
       "  'public': True,\n",
       "  'snapshot_id': 'NCxiMDFjNDg1ZGUxMjA3NDE0NjQ3MzRkYWNkNjI5NWNjMGVlMzYwMGQw',\n",
       "  'tracks': {'href': 'https://api.spotify.com/v1/playlists/4WVYZPqYzHx9BN9pq6YcJB/tracks',\n",
       "   'total': 1},\n",
       "  'type': 'playlist',\n",
       "  'uri': 'spotify:playlist:4WVYZPqYzHx9BN9pq6YcJB'}]"
      ]
     },
     "execution_count": 2,
     "metadata": {},
     "output_type": "execute_result"
    }
   ],
   "source": [
    "api.getPlaylists()"
   ]
  },
  {
   "cell_type": "code",
   "execution_count": 3,
   "metadata": {},
   "outputs": [
    {
     "data": {
      "text/plain": [
       "['Dancey',\n",
       " 'Blu',\n",
       " 'I wish',\n",
       " 'Chill vibes @Harry Plopper',\n",
       " \"Holland Road trip '22\",\n",
       " 'Son House on Repeat',\n",
       " 'My Playlist #54',\n",
       " \"We Vibin'\",\n",
       " 'Old time feel-good',\n",
       " 'AT last',\n",
       " 'Summer 2020',\n",
       " 'Israeli',\n",
       " '27 April 2020',\n",
       " 'Junior M.A.F.I.A. Radio',\n",
       " 'Pump it up',\n",
       " 'Shower music',\n",
       " 'Mushroom season',\n",
       " 'October 11-12 2019',\n",
       " 'Lola',\n",
       " 'Pre-iPhone']"
      ]
     },
     "execution_count": 3,
     "metadata": {},
     "output_type": "execute_result"
    }
   ],
   "source": [
    "# Test Asaf's id\n",
    "Asaf = \"21hrln7z7x7afddwq263yj34q\"\n",
    "\n",
    "# For testing purposes\n",
    "def getPlaylistNames():\n",
    "        playlist_names = []\n",
    "        playlists = api.getPlaylists(Asaf)\n",
    "        for i in range(len(playlists)):\n",
    "                # print(playlists[i]['name'])\n",
    "                playlist_names.append(playlists[i]['name'])\n",
    "        return playlist_names\n",
    "\n",
    "playlist_names = getPlaylistNames()\n",
    "playlist_names\n",
    "        # print(playlists[i]['uri'])\n",
    "        # print()"
   ]
  },
  {
   "cell_type": "code",
   "execution_count": 4,
   "metadata": {},
   "outputs": [
    {
     "name": "stdout",
     "output_type": "stream",
     "text": [
      "Playlist Dancey found!\n"
     ]
    },
    {
     "data": {
      "text/plain": [
       "'3D34oTsGMwaThSCifPYyNZ'"
      ]
     },
     "execution_count": 4,
     "metadata": {},
     "output_type": "execute_result"
    }
   ],
   "source": [
    "playlist_uri = api.getPlaylistIdFromName(\"Dancey\", Asaf)\n",
    "playlist_uri"
   ]
  },
  {
   "cell_type": "code",
   "execution_count": 5,
   "metadata": {},
   "outputs": [
    {
     "name": "stdout",
     "output_type": "stream",
     "text": [
      "need to create this\n",
      "{\n",
      "  \"error\" : {\n",
      "    \"status\" : 403,\n",
      "    \"message\" : \"Insufficient client scope\"\n",
      "  }\n",
      "}\n",
      "Creation of Dancey_copy failed.\n",
      "Dancey_copy in playlist_names?\n",
      "False\n"
     ]
    }
   ],
   "source": [
    "# Test adding 5 songs from my playlist to another one of Asaf's playlists (a test one)\n",
    "if \"Dancey_copy\" not in playlist_names:\n",
    "    print(\"need to create this\")\n",
    "    api.createPlaylist(\"Dancey_copy\")\n",
    "\n",
    "playlist_names = getPlaylistNames()\n",
    "print(f\"Dancey_copy in playlist_names?\\n{'Dancey_copy' in playlist_names}\")\n",
    "# TODO fix this failure by implementing implicit grant flow (requiring django or something, oof)"
   ]
  },
  {
   "cell_type": "code",
   "execution_count": null,
   "metadata": {},
   "outputs": [],
   "source": [
    "# TODO Test adding songs, after successfully making the new auth type\n"
   ]
  },
  {
   "cell_type": "code",
   "execution_count": null,
   "metadata": {},
   "outputs": [],
   "source": [
    "new = api.generatePlaylistNames()\n",
    "len(new) # 45 for 2 playlists per user"
   ]
  },
  {
   "cell_type": "code",
   "execution_count": null,
   "metadata": {},
   "outputs": [],
   "source": [
    "import pandas as pd\n",
    "recs = pd.read_csv(\"participant data/recommendation data/rec_tracks_all.csv\")\n",
    "recs.head()"
   ]
  }
 ],
 "metadata": {
  "kernelspec": {
   "display_name": "Python 3.10.6 ('venv': venv)",
   "language": "python",
   "name": "python3"
  },
  "language_info": {
   "codemirror_mode": {
    "name": "ipython",
    "version": 3
   },
   "file_extension": ".py",
   "mimetype": "text/x-python",
   "name": "python",
   "nbconvert_exporter": "python",
   "pygments_lexer": "ipython3",
   "version": "3.10.6"
  },
  "orig_nbformat": 4,
  "vscode": {
   "interpreter": {
    "hash": "953be8f9f5d2d8924318ea933725a0cba1e011a2089a1645318d391a1ca8694c"
   }
  }
 },
 "nbformat": 4,
 "nbformat_minor": 2
}
